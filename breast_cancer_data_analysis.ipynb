{
 "cells": [
  {
   "cell_type": "markdown",
   "id": "4635c5d4-cd96-40a7-bb06-6cb8adc61043",
   "metadata": {},
   "source": [
    "<h1 style=\"text-align: center;\">Breast Cancer Survival Analysis</h1>\n",
    "\n",
    "<h2 style=\"text-align: center;\">Tumor Stage, Receptor Status, and Patient Outcomes</h2>\n",
    "\n",
    "<p style=\"text-align: center;\">Natalie Alba | July 2025</p>\n",
    "\n",
    "\n",
    "**Dataset:** This analysis uses an anonymized breast cancer dataset obtained from Kaggle. All patient identifiers have been removed to protect privacy.  \n",
    "**Source:** [Kaggle Breast Cancer Dataset](https://www.kaggle.com/datasets/amandam1/breastcancerdataset)"
   ]
  },
  {
   "cell_type": "markdown",
   "id": "19ae68f0-f6eb-4de5-8241-bf00bb8f213a",
   "metadata": {},
   "source": [
    "**Table of Contents**\n",
    "1. [Introduction](#Introduction)\n",
    "2. [Data Import & Cleaning](#Data-Import-&-Cleaning)\n",
    "3. [Exploratory Data Analysis](#Exploratory-Data-Analysis)\n",
    "4. [Statistical Testing](#Statistical-Testing)\n",
    "5. [Conclusions](#Conclusions)\n",
    "6. [Limitations & Future Work](#Limitations-&-Future-Work)\n"
   ]
  },
  {
   "cell_type": "markdown",
   "id": "30b88b51-4321-4fef-957c-6309ce1c452b",
   "metadata": {},
   "source": [
    "## Introduction\n",
    "\n",
    "**Context**\n",
    "\n",
    "This project investigates a breast cancer dataset to uncover relationships between tumor characteristics, treatment decisions, and patient outcomes. Through data cleaning, visualization, and statistical analysis, I explore trends in tumor stage, protein expression, receptor status, surgical choices, and survival. The goal is to highlight insights relevant to clinical decision-making and potential biomarkers, demonstrating end-to-end data analysis and technical skills.\n",
    "\n",
    "**Exloratory Questions**\n",
    "\n",
    "1. How does patient age influence tumor stage at diagnosis?\n",
    "2. Do protein expression levels predict tumor stage progression?\n",
    "3. Are certain receptor statuses (ER, PR, HER2) more prevalent in advanced tumor stages?\n",
    "4. How do surgical choices vary across tumor stages?\n",
    "5. What impact do tumor stages and receptor statuses have on patient survival?"
   ]
  },
  {
   "cell_type": "markdown",
   "id": "6d63802a-af8e-4c96-aa6e-42126a7bf2a4",
   "metadata": {},
   "source": [
    "## Data Import & Cleaning"
   ]
  },
  {
   "cell_type": "markdown",
   "id": "09dc3f43-26ac-40be-be7f-629220ad9a33",
   "metadata": {},
   "source": [
    "**Raw Data Preview**\n",
    "\n",
    "Below is a preview of the original dataset before cleaning:\n"
   ]
  },
  {
   "cell_type": "code",
   "execution_count": 2,
   "id": "253ad26b-6cc9-4cec-9997-188483a377c0",
   "metadata": {},
   "outputs": [
    {
     "data": {
      "text/html": [
       "<div>\n",
       "<style scoped>\n",
       "    .dataframe tbody tr th:only-of-type {\n",
       "        vertical-align: middle;\n",
       "    }\n",
       "\n",
       "    .dataframe tbody tr th {\n",
       "        vertical-align: top;\n",
       "    }\n",
       "\n",
       "    .dataframe thead th {\n",
       "        text-align: right;\n",
       "    }\n",
       "</style>\n",
       "<table border=\"1\" class=\"dataframe\">\n",
       "  <thead>\n",
       "    <tr style=\"text-align: right;\">\n",
       "      <th></th>\n",
       "      <th>Patient_ID</th>\n",
       "      <th>Age</th>\n",
       "      <th>Gender</th>\n",
       "      <th>Protein1</th>\n",
       "      <th>Protein2</th>\n",
       "      <th>Protein3</th>\n",
       "      <th>Protein4</th>\n",
       "      <th>Tumour_Stage</th>\n",
       "      <th>Histology</th>\n",
       "      <th>ER status</th>\n",
       "      <th>PR status</th>\n",
       "      <th>HER2 status</th>\n",
       "      <th>Surgery_type</th>\n",
       "      <th>Date_of_Surgery</th>\n",
       "      <th>Date_of_Last_Visit</th>\n",
       "      <th>Patient_Status</th>\n",
       "    </tr>\n",
       "  </thead>\n",
       "  <tbody>\n",
       "    <tr>\n",
       "      <th>0</th>\n",
       "      <td>TCGA-D8-A1XD</td>\n",
       "      <td>36.0</td>\n",
       "      <td>FEMALE</td>\n",
       "      <td>0.080353</td>\n",
       "      <td>0.42638</td>\n",
       "      <td>0.54715</td>\n",
       "      <td>0.273680</td>\n",
       "      <td>III</td>\n",
       "      <td>Infiltrating Ductal Carcinoma</td>\n",
       "      <td>Positive</td>\n",
       "      <td>Positive</td>\n",
       "      <td>Negative</td>\n",
       "      <td>Modified Radical Mastectomy</td>\n",
       "      <td>15-Jan-17</td>\n",
       "      <td>19-Jun-17</td>\n",
       "      <td>Alive</td>\n",
       "    </tr>\n",
       "    <tr>\n",
       "      <th>1</th>\n",
       "      <td>TCGA-EW-A1OX</td>\n",
       "      <td>43.0</td>\n",
       "      <td>FEMALE</td>\n",
       "      <td>-0.420320</td>\n",
       "      <td>0.57807</td>\n",
       "      <td>0.61447</td>\n",
       "      <td>-0.031505</td>\n",
       "      <td>II</td>\n",
       "      <td>Mucinous Carcinoma</td>\n",
       "      <td>Positive</td>\n",
       "      <td>Positive</td>\n",
       "      <td>Negative</td>\n",
       "      <td>Lumpectomy</td>\n",
       "      <td>26-Apr-17</td>\n",
       "      <td>09-Nov-18</td>\n",
       "      <td>Dead</td>\n",
       "    </tr>\n",
       "    <tr>\n",
       "      <th>2</th>\n",
       "      <td>TCGA-A8-A079</td>\n",
       "      <td>69.0</td>\n",
       "      <td>FEMALE</td>\n",
       "      <td>0.213980</td>\n",
       "      <td>1.31140</td>\n",
       "      <td>-0.32747</td>\n",
       "      <td>-0.234260</td>\n",
       "      <td>III</td>\n",
       "      <td>Infiltrating Ductal Carcinoma</td>\n",
       "      <td>Positive</td>\n",
       "      <td>Positive</td>\n",
       "      <td>Negative</td>\n",
       "      <td>Other</td>\n",
       "      <td>08-Sep-17</td>\n",
       "      <td>09-Jun-18</td>\n",
       "      <td>Alive</td>\n",
       "    </tr>\n",
       "    <tr>\n",
       "      <th>3</th>\n",
       "      <td>TCGA-D8-A1XR</td>\n",
       "      <td>56.0</td>\n",
       "      <td>FEMALE</td>\n",
       "      <td>0.345090</td>\n",
       "      <td>-0.21147</td>\n",
       "      <td>-0.19304</td>\n",
       "      <td>0.124270</td>\n",
       "      <td>II</td>\n",
       "      <td>Infiltrating Ductal Carcinoma</td>\n",
       "      <td>Positive</td>\n",
       "      <td>Positive</td>\n",
       "      <td>Negative</td>\n",
       "      <td>Modified Radical Mastectomy</td>\n",
       "      <td>25-Jan-17</td>\n",
       "      <td>12-Jul-17</td>\n",
       "      <td>Alive</td>\n",
       "    </tr>\n",
       "    <tr>\n",
       "      <th>4</th>\n",
       "      <td>TCGA-BH-A0BF</td>\n",
       "      <td>56.0</td>\n",
       "      <td>FEMALE</td>\n",
       "      <td>0.221550</td>\n",
       "      <td>1.90680</td>\n",
       "      <td>0.52045</td>\n",
       "      <td>-0.311990</td>\n",
       "      <td>II</td>\n",
       "      <td>Infiltrating Ductal Carcinoma</td>\n",
       "      <td>Positive</td>\n",
       "      <td>Positive</td>\n",
       "      <td>Negative</td>\n",
       "      <td>Other</td>\n",
       "      <td>06-May-17</td>\n",
       "      <td>27-Jun-19</td>\n",
       "      <td>Dead</td>\n",
       "    </tr>\n",
       "  </tbody>\n",
       "</table>\n",
       "</div>"
      ],
      "text/plain": [
       "     Patient_ID   Age  Gender  Protein1  Protein2  Protein3  Protein4  \\\n",
       "0  TCGA-D8-A1XD  36.0  FEMALE  0.080353   0.42638   0.54715  0.273680   \n",
       "1  TCGA-EW-A1OX  43.0  FEMALE -0.420320   0.57807   0.61447 -0.031505   \n",
       "2  TCGA-A8-A079  69.0  FEMALE  0.213980   1.31140  -0.32747 -0.234260   \n",
       "3  TCGA-D8-A1XR  56.0  FEMALE  0.345090  -0.21147  -0.19304  0.124270   \n",
       "4  TCGA-BH-A0BF  56.0  FEMALE  0.221550   1.90680   0.52045 -0.311990   \n",
       "\n",
       "  Tumour_Stage                      Histology ER status PR status HER2 status  \\\n",
       "0          III  Infiltrating Ductal Carcinoma  Positive  Positive    Negative   \n",
       "1           II             Mucinous Carcinoma  Positive  Positive    Negative   \n",
       "2          III  Infiltrating Ductal Carcinoma  Positive  Positive    Negative   \n",
       "3           II  Infiltrating Ductal Carcinoma  Positive  Positive    Negative   \n",
       "4           II  Infiltrating Ductal Carcinoma  Positive  Positive    Negative   \n",
       "\n",
       "                  Surgery_type Date_of_Surgery Date_of_Last_Visit  \\\n",
       "0  Modified Radical Mastectomy       15-Jan-17          19-Jun-17   \n",
       "1                   Lumpectomy       26-Apr-17          09-Nov-18   \n",
       "2                        Other       08-Sep-17          09-Jun-18   \n",
       "3  Modified Radical Mastectomy       25-Jan-17          12-Jul-17   \n",
       "4                        Other       06-May-17          27-Jun-19   \n",
       "\n",
       "  Patient_Status  \n",
       "0          Alive  \n",
       "1           Dead  \n",
       "2          Alive  \n",
       "3          Alive  \n",
       "4           Dead  "
      ]
     },
     "execution_count": 2,
     "metadata": {},
     "output_type": "execute_result"
    }
   ],
   "source": [
    "import pandas as pd\n",
    "\n",
    "raw_df = pd.read_csv('BRCA_fixed.csv')\n",
    "raw_df.head()"
   ]
  },
  {
   "cell_type": "markdown",
   "id": "e7cbcf25-449f-484b-858a-910a271e5ed6",
   "metadata": {},
   "source": [
    "**Data Cleaning Process**"
   ]
  },
  {
   "cell_type": "markdown",
   "id": "1d3d9f4e-9fbf-4b51-8755-15ca0bcb541d",
   "metadata": {},
   "source": [
    "1. Load Raw Data"
   ]
  },
  {
   "cell_type": "code",
   "execution_count": 3,
   "id": "d02342c3-3c2c-4e61-aa32-93ac18ee2d89",
   "metadata": {},
   "outputs": [],
   "source": [
    "import pandas as pd\n",
    "\n",
    "df = pd.read_csv('BRCA_fixed.csv', skip_blank_lines=True)\n",
    "df = df.dropna(how='all')"
   ]
  },
  {
   "cell_type": "markdown",
   "id": "19dc319c-3cb4-458c-8245-3e981742e8c2",
   "metadata": {},
   "source": [
    "2. Handle Missing Values"
   ]
  },
  {
   "cell_type": "code",
   "execution_count": 4,
   "id": "c058a1a7-f1c1-46c2-899e-39b23bbfc322",
   "metadata": {},
   "outputs": [],
   "source": [
    "# Missing values found in 'Patient_Status' will be replaced with 'Unknown\n",
    "# Nulls in 'Date_of_Last_Visit' will be kept for ease of survival_date calculations\n",
    "\n",
    "df['Patient_Status'] = df['Patient_Status'].fillna('Unknown')\n"
   ]
  },
  {
   "cell_type": "markdown",
   "id": "8c424a5f-b729-4559-b9ee-428473606e42",
   "metadata": {},
   "source": [
    "3. Convert Dates + Create Features\n",
    "\n",
    "A new column called 'survival_days' is created by subtracting the 'Date_of_Surgery' from 'Date_of_Last_Visit' to explore survival analysis. Once created, will compare and anlalyze the trends and potential factors for varying survival times: age, surgery type, receptor status, and tumor stage."
   ]
  },
  {
   "cell_type": "code",
   "execution_count": 5,
   "id": "42fa78d5-f649-4b8d-b4e9-16889c048c3c",
   "metadata": {},
   "outputs": [],
   "source": [
    "# Dates are converted to typical year-month-date format (e.g. 2017-02-24)\n",
    "\n",
    "df['Date_of_Surgery'] = pd.to_datetime(df['Date_of_Surgery'], format='%d-%b-%y', errors='coerce')\n",
    "df['Date_of_Last_Visit'] = pd.to_datetime(df['Date_of_Last_Visit'], format='%d-%b-%y', errors='coerce')\n",
    "\n",
    "# Create survival_days column to compare survival times later\n",
    "\n",
    "df['survival_days'] = (df['Date_of_Last_Visit'] - df['Date_of_Surgery']).dt.days"
   ]
  },
  {
   "cell_type": "markdown",
   "id": "abde4e98-3892-4435-a3b3-4d4832473d2b",
   "metadata": {},
   "source": [
    "4. Standardize Categorical Columns"
   ]
  },
  {
   "cell_type": "code",
   "execution_count": 6,
   "id": "d78c4fb6-8234-43c8-9552-86e255971825",
   "metadata": {},
   "outputs": [],
   "source": [
    "# Standardize categoricals\n",
    "\n",
    "cat_col = ['Gender', 'Tumour_Stage', 'Histology', 'ER status', 'Patient_Status']\n",
    "for col in cat_col:\n",
    "    df[col] = df[col].astype(str).str.strip().str.title()\n",
    "    df[col] = df[col].astype('category')\n",
    "\n",
    "\n",
    "# Convert categories back to strings for CSV before saving!\n",
    "\n",
    "for col in cat_col:\n",
    "    df[col] = df[col].astype(str)\n",
    "\n",
    "for col in cat_col:\n",
    "    if col == 'Tumour_Stage':\n",
    "        df[col] = df[col].astype(str).str.strip().str.upper()  # handles capitalization format in this column e.g., \"iii\" → \"III\"\n",
    "    else:\n",
    "        df[col] = df[col].astype(str).str.strip().str.title()  # normal title case for others (typical Title format)\n",
    "    df[col] = df[col].astype('category')"
   ]
  },
  {
   "cell_type": "markdown",
   "id": "fabe319d-b28e-41c6-bd60-c745bc89f5d7",
   "metadata": {},
   "source": [
    "5. Save Cleaned Dataset\n",
    "\n",
    "Here, the cleaned dataset is saved as 'BRCA_cleaned.csv' for reproducability and backup (raw file is not modified or overwritten)."
   ]
  },
  {
   "cell_type": "code",
   "execution_count": 7,
   "id": "730f7f55-25b8-4bba-89a8-948ea83d86cb",
   "metadata": {},
   "outputs": [
    {
     "name": "stdout",
     "output_type": "stream",
     "text": [
      "       Patient_ID   Age  Gender  Protein1  Protein2  Protein3  Protein4  \\\n",
      "314  TCGA-LD-A66U  44.0  Female  0.891850   0.44440   0.11020  0.156850   \n",
      "315  TCGA-E2-A156  61.0  Female -0.405920   2.75130  -0.59542  0.816390   \n",
      "316  TCGA-AO-A0JJ  54.0  Female -1.231300  -0.76767   0.86160  0.239050   \n",
      "317  TCGA-E2-A14Z  64.0  Female  0.975800   2.48470  -0.51332  0.666980   \n",
      "318  TCGA-A2-A0SU  66.0  Female -0.370430   1.91850  -0.79608 -0.062903   \n",
      "319  TCGA-A7-A13G  79.0  Female -1.062200   1.16640  -0.65565 -0.092381   \n",
      "320  TCGA-BH-A0BR  59.0  Female  0.452300   1.39590  -0.23084  0.796310   \n",
      "321  TCGA-A8-A083  67.0  Female  0.317420  -0.55585   0.35657  0.797330   \n",
      "322  TCGA-BH-A0HU  52.0  Female  0.240800   1.73480   0.33109  1.044100   \n",
      "323  TCGA-AO-A1KP  77.0  Female  0.339120   1.31930   0.58740  0.351920   \n",
      "324  TCGA-AR-A2LQ  59.0  Female  0.150500   1.26740   0.64265  0.261420   \n",
      "325  TCGA-BH-A0BV  78.0  Female -0.917230  -0.64693   0.55259  0.458740   \n",
      "326  TCGA-AO-A1KO  46.0  Female -0.740140  -0.73755   0.72032  0.721820   \n",
      "327  TCGA-E2-A1B5  46.0  Female -0.055036  -0.50643   0.88778 -0.089424   \n",
      "328  TCGA-AR-A1AL  60.0  Female  0.094585   1.00030  -0.22575  0.048602   \n",
      "329  TCGA-AN-A04A  36.0  Female  0.231800   0.61804  -0.55779 -0.517350   \n",
      "330  TCGA-A8-A085  44.0    Male  0.732720   1.11170  -0.26952 -0.354920   \n",
      "331  TCGA-A1-A0SG  61.0  Female -0.719470   2.54850  -0.15024  0.339680   \n",
      "332  TCGA-A2-A0EU  79.0  Female  0.479400   2.05590  -0.53136 -0.188480   \n",
      "333  TCGA-B6-A40B  76.0  Female -0.244270   0.92556  -0.41823 -0.067848   \n",
      "\n",
      "    Tumour_Stage                       Histology ER status PR status  \\\n",
      "314           II   Infiltrating Ductal Carcinoma  Positive  Positive   \n",
      "315            I   Infiltrating Ductal Carcinoma  Positive  Positive   \n",
      "316           II  Infiltrating Lobular Carcinoma  Positive  Positive   \n",
      "317            I   Infiltrating Ductal Carcinoma  Positive  Positive   \n",
      "318           II  Infiltrating Lobular Carcinoma  Positive  Positive   \n",
      "319           II  Infiltrating Lobular Carcinoma  Positive  Positive   \n",
      "320            I  Infiltrating Lobular Carcinoma  Positive  Positive   \n",
      "321           II   Infiltrating Ductal Carcinoma  Positive  Positive   \n",
      "322            I   Infiltrating Ductal Carcinoma  Positive  Positive   \n",
      "323           II   Infiltrating Ductal Carcinoma  Positive  Positive   \n",
      "324           II   Infiltrating Ductal Carcinoma  Positive  Positive   \n",
      "325           II  Infiltrating Lobular Carcinoma  Positive  Positive   \n",
      "326           II   Infiltrating Ductal Carcinoma  Positive  Positive   \n",
      "327           II   Infiltrating Ductal Carcinoma  Positive  Positive   \n",
      "328          III   Infiltrating Ductal Carcinoma  Positive  Positive   \n",
      "329          III   Infiltrating Ductal Carcinoma  Positive  Positive   \n",
      "330           II  Infiltrating Lobular Carcinoma  Positive  Positive   \n",
      "331           II   Infiltrating Ductal Carcinoma  Positive  Positive   \n",
      "332            I   Infiltrating Ductal Carcinoma  Positive  Positive   \n",
      "333            I   Infiltrating Ductal Carcinoma  Positive  Positive   \n",
      "\n",
      "    HER2 status                 Surgery_type Date_of_Surgery  \\\n",
      "314    Negative  Modified Radical Mastectomy      2019-09-22   \n",
      "315    Negative                   Lumpectomy      2019-09-12   \n",
      "316    Negative  Modified Radical Mastectomy      2019-09-22   \n",
      "317    Negative                   Lumpectomy      2019-10-02   \n",
      "318    Negative            Simple Mastectomy      2019-09-22   \n",
      "319    Negative            Simple Mastectomy      2019-10-02   \n",
      "320    Negative                        Other      2019-10-12   \n",
      "321    Negative                        Other      2019-10-02   \n",
      "322    Negative                        Other      2019-10-12   \n",
      "323    Negative            Simple Mastectomy      2019-10-22   \n",
      "324    Negative            Simple Mastectomy      2019-10-12   \n",
      "325    Negative  Modified Radical Mastectomy      2019-10-22   \n",
      "326    Negative            Simple Mastectomy      2019-11-01   \n",
      "327    Negative                   Lumpectomy      2019-10-22   \n",
      "328    Negative            Simple Mastectomy      2019-11-01   \n",
      "329    Positive            Simple Mastectomy      2019-11-11   \n",
      "330    Negative                        Other      2019-11-01   \n",
      "331    Negative                   Lumpectomy      2019-11-11   \n",
      "332    Positive                   Lumpectomy      2019-11-21   \n",
      "333    Negative                   Lumpectomy      2019-11-11   \n",
      "\n",
      "    Date_of_Last_Visit Patient_Status  survival_days  \n",
      "314         2020-05-31          Alive          252.0  \n",
      "315         2021-01-05          Alive          481.0  \n",
      "316         2021-02-15          Alive          512.0  \n",
      "317         2021-02-03          Alive          490.0  \n",
      "318         2020-09-08          Alive          352.0  \n",
      "319         2020-04-27          Alive          208.0  \n",
      "320         2021-01-19          Alive          465.0  \n",
      "321                NaT        Unknown            NaN  \n",
      "322         2020-11-07          Alive          392.0  \n",
      "323         2021-02-09          Alive          476.0  \n",
      "324         2021-02-01          Alive          478.0  \n",
      "325         2021-03-24          Alive          519.0  \n",
      "326         2021-01-22          Alive          448.0  \n",
      "327         2021-02-09           Dead          476.0  \n",
      "328         2021-02-28           Dead          485.0  \n",
      "329         2020-02-09           Dead           90.0  \n",
      "330         2020-03-04           Dead          124.0  \n",
      "331         2021-01-18           Dead          434.0  \n",
      "332         2021-02-19           Dead          456.0  \n",
      "333         2021-01-05           Dead          421.0  \n"
     ]
    }
   ],
   "source": [
    "df.to_csv('BRCA_cleaned.csv', index=False)\n",
    "\n",
    "print(df.tail(20))"
   ]
  },
  {
   "cell_type": "markdown",
   "id": "f4bce862-35c2-41fb-9efa-3cd657cfcda3",
   "metadata": {},
   "source": [
    "\n",
    "**Cleaned Data Preview**\n",
    "\n",
    "After handling missing values, converting dats, and standardizing categories, a cleaned version of the dataset can now be used for analysis:"
   ]
  },
  {
   "cell_type": "code",
   "execution_count": 8,
   "id": "207421c8-e12c-4622-85dc-fc470df51b3b",
   "metadata": {},
   "outputs": [
    {
     "data": {
      "text/html": [
       "<div>\n",
       "<style scoped>\n",
       "    .dataframe tbody tr th:only-of-type {\n",
       "        vertical-align: middle;\n",
       "    }\n",
       "\n",
       "    .dataframe tbody tr th {\n",
       "        vertical-align: top;\n",
       "    }\n",
       "\n",
       "    .dataframe thead th {\n",
       "        text-align: right;\n",
       "    }\n",
       "</style>\n",
       "<table border=\"1\" class=\"dataframe\">\n",
       "  <thead>\n",
       "    <tr style=\"text-align: right;\">\n",
       "      <th></th>\n",
       "      <th>Patient_ID</th>\n",
       "      <th>Age</th>\n",
       "      <th>Gender</th>\n",
       "      <th>Protein1</th>\n",
       "      <th>Protein2</th>\n",
       "      <th>Protein3</th>\n",
       "      <th>Protein4</th>\n",
       "      <th>Tumour_Stage</th>\n",
       "      <th>Histology</th>\n",
       "      <th>ER status</th>\n",
       "      <th>PR status</th>\n",
       "      <th>HER2 status</th>\n",
       "      <th>Surgery_type</th>\n",
       "      <th>Date_of_Surgery</th>\n",
       "      <th>Date_of_Last_Visit</th>\n",
       "      <th>Patient_Status</th>\n",
       "      <th>survival_days</th>\n",
       "    </tr>\n",
       "  </thead>\n",
       "  <tbody>\n",
       "    <tr>\n",
       "      <th>0</th>\n",
       "      <td>TCGA-D8-A1XD</td>\n",
       "      <td>36.0</td>\n",
       "      <td>Female</td>\n",
       "      <td>0.080353</td>\n",
       "      <td>0.42638</td>\n",
       "      <td>0.54715</td>\n",
       "      <td>0.273680</td>\n",
       "      <td>III</td>\n",
       "      <td>Infiltrating Ductal Carcinoma</td>\n",
       "      <td>Positive</td>\n",
       "      <td>Positive</td>\n",
       "      <td>Negative</td>\n",
       "      <td>Modified Radical Mastectomy</td>\n",
       "      <td>2017-01-15</td>\n",
       "      <td>2017-06-19</td>\n",
       "      <td>Alive</td>\n",
       "      <td>155.0</td>\n",
       "    </tr>\n",
       "    <tr>\n",
       "      <th>1</th>\n",
       "      <td>TCGA-EW-A1OX</td>\n",
       "      <td>43.0</td>\n",
       "      <td>Female</td>\n",
       "      <td>-0.420320</td>\n",
       "      <td>0.57807</td>\n",
       "      <td>0.61447</td>\n",
       "      <td>-0.031505</td>\n",
       "      <td>II</td>\n",
       "      <td>Mucinous Carcinoma</td>\n",
       "      <td>Positive</td>\n",
       "      <td>Positive</td>\n",
       "      <td>Negative</td>\n",
       "      <td>Lumpectomy</td>\n",
       "      <td>2017-04-26</td>\n",
       "      <td>2018-11-09</td>\n",
       "      <td>Dead</td>\n",
       "      <td>562.0</td>\n",
       "    </tr>\n",
       "    <tr>\n",
       "      <th>2</th>\n",
       "      <td>TCGA-A8-A079</td>\n",
       "      <td>69.0</td>\n",
       "      <td>Female</td>\n",
       "      <td>0.213980</td>\n",
       "      <td>1.31140</td>\n",
       "      <td>-0.32747</td>\n",
       "      <td>-0.234260</td>\n",
       "      <td>III</td>\n",
       "      <td>Infiltrating Ductal Carcinoma</td>\n",
       "      <td>Positive</td>\n",
       "      <td>Positive</td>\n",
       "      <td>Negative</td>\n",
       "      <td>Other</td>\n",
       "      <td>2017-09-08</td>\n",
       "      <td>2018-06-09</td>\n",
       "      <td>Alive</td>\n",
       "      <td>274.0</td>\n",
       "    </tr>\n",
       "    <tr>\n",
       "      <th>3</th>\n",
       "      <td>TCGA-D8-A1XR</td>\n",
       "      <td>56.0</td>\n",
       "      <td>Female</td>\n",
       "      <td>0.345090</td>\n",
       "      <td>-0.21147</td>\n",
       "      <td>-0.19304</td>\n",
       "      <td>0.124270</td>\n",
       "      <td>II</td>\n",
       "      <td>Infiltrating Ductal Carcinoma</td>\n",
       "      <td>Positive</td>\n",
       "      <td>Positive</td>\n",
       "      <td>Negative</td>\n",
       "      <td>Modified Radical Mastectomy</td>\n",
       "      <td>2017-01-25</td>\n",
       "      <td>2017-07-12</td>\n",
       "      <td>Alive</td>\n",
       "      <td>168.0</td>\n",
       "    </tr>\n",
       "    <tr>\n",
       "      <th>4</th>\n",
       "      <td>TCGA-BH-A0BF</td>\n",
       "      <td>56.0</td>\n",
       "      <td>Female</td>\n",
       "      <td>0.221550</td>\n",
       "      <td>1.90680</td>\n",
       "      <td>0.52045</td>\n",
       "      <td>-0.311990</td>\n",
       "      <td>II</td>\n",
       "      <td>Infiltrating Ductal Carcinoma</td>\n",
       "      <td>Positive</td>\n",
       "      <td>Positive</td>\n",
       "      <td>Negative</td>\n",
       "      <td>Other</td>\n",
       "      <td>2017-05-06</td>\n",
       "      <td>2019-06-27</td>\n",
       "      <td>Dead</td>\n",
       "      <td>782.0</td>\n",
       "    </tr>\n",
       "  </tbody>\n",
       "</table>\n",
       "</div>"
      ],
      "text/plain": [
       "     Patient_ID   Age  Gender  Protein1  Protein2  Protein3  Protein4  \\\n",
       "0  TCGA-D8-A1XD  36.0  Female  0.080353   0.42638   0.54715  0.273680   \n",
       "1  TCGA-EW-A1OX  43.0  Female -0.420320   0.57807   0.61447 -0.031505   \n",
       "2  TCGA-A8-A079  69.0  Female  0.213980   1.31140  -0.32747 -0.234260   \n",
       "3  TCGA-D8-A1XR  56.0  Female  0.345090  -0.21147  -0.19304  0.124270   \n",
       "4  TCGA-BH-A0BF  56.0  Female  0.221550   1.90680   0.52045 -0.311990   \n",
       "\n",
       "  Tumour_Stage                      Histology ER status PR status HER2 status  \\\n",
       "0          III  Infiltrating Ductal Carcinoma  Positive  Positive    Negative   \n",
       "1           II             Mucinous Carcinoma  Positive  Positive    Negative   \n",
       "2          III  Infiltrating Ductal Carcinoma  Positive  Positive    Negative   \n",
       "3           II  Infiltrating Ductal Carcinoma  Positive  Positive    Negative   \n",
       "4           II  Infiltrating Ductal Carcinoma  Positive  Positive    Negative   \n",
       "\n",
       "                  Surgery_type Date_of_Surgery Date_of_Last_Visit  \\\n",
       "0  Modified Radical Mastectomy      2017-01-15         2017-06-19   \n",
       "1                   Lumpectomy      2017-04-26         2018-11-09   \n",
       "2                        Other      2017-09-08         2018-06-09   \n",
       "3  Modified Radical Mastectomy      2017-01-25         2017-07-12   \n",
       "4                        Other      2017-05-06         2019-06-27   \n",
       "\n",
       "  Patient_Status  survival_days  \n",
       "0          Alive          155.0  \n",
       "1           Dead          562.0  \n",
       "2          Alive          274.0  \n",
       "3          Alive          168.0  \n",
       "4           Dead          782.0  "
      ]
     },
     "execution_count": 8,
     "metadata": {},
     "output_type": "execute_result"
    }
   ],
   "source": [
    "df = pd.read_csv('BRCA_cleaned.csv')\n",
    "df.head()"
   ]
  },
  {
   "cell_type": "markdown",
   "id": "465d6516-5f62-43fd-bbc3-d82f3aed68f9",
   "metadata": {},
   "source": [
    "**Upload Cleaned Data to MySQL**\n",
    "\n",
    "The cleaned dataset will now be pused to the MySQL database 'Breast_Cancer' in the table 'brca_cleaned'."
   ]
  },
  {
   "cell_type": "code",
   "execution_count": 9,
   "id": "aa399fa2-40c9-42b7-a28b-d00afb456f22",
   "metadata": {},
   "outputs": [
    {
     "name": "stdin",
     "output_type": "stream",
     "text": [
      "Enter MySQL password:  ········\n"
     ]
    },
    {
     "name": "stdout",
     "output_type": "stream",
     "text": [
      "MySQL table 'brca_cleaned' updated successfully!\n"
     ]
    }
   ],
   "source": [
    "from sqlalchemy import create_engine\n",
    "\n",
    "username = 'root'        \n",
    "from getpass import getpass\n",
    "password = getpass(\"Enter MySQL password: \") \n",
    "host = 'localhost'     \n",
    "database = 'Breast_Cancer' \n",
    "\n",
    "engine = create_engine(f\"mysql+pymysql://{username}:{password}@{host}/{database}\")\n",
    "\n",
    "df.to_sql('brca_cleaned', con=engine, if_exists='replace', index=False)\n",
    "\n",
    "print(\"MySQL table 'brca_cleaned' updated successfully!\")\n"
   ]
  },
  {
   "cell_type": "markdown",
   "id": "b3a10ab3-85d4-40bd-ad18-ddec69432807",
   "metadata": {},
   "source": [
    "\n",
    "## Exploratory Data Analysis\n",
    "\n",
    "This section explores patterns, trends, and insights in the BRCA dataset, focusing on tumor characteristics, patient demographics, and survival outcomes.\n"
   ]
  },
  {
   "cell_type": "markdown",
   "id": "8e99a34f-4fcd-4eae-b017-2a6187476f97",
   "metadata": {},
   "source": [
    "**Question 1: How does patient age influence tumor stage at diagnosis?**\n",
    "\n",
    "Here, I will investigate whether patient age differs by tumor stage using average age, min/max, and interquartile range (IQR) statistics."
   ]
  },
  {
   "cell_type": "code",
   "execution_count": 10,
   "id": "64420138-74f0-4a85-a3a4-1ec9bf0c2dca",
   "metadata": {},
   "outputs": [
    {
     "data": {
      "text/html": [
       "<div>\n",
       "<style scoped>\n",
       "    .dataframe tbody tr th:only-of-type {\n",
       "        vertical-align: middle;\n",
       "    }\n",
       "\n",
       "    .dataframe tbody tr th {\n",
       "        vertical-align: top;\n",
       "    }\n",
       "\n",
       "    .dataframe thead th {\n",
       "        text-align: right;\n",
       "    }\n",
       "</style>\n",
       "<table border=\"1\" class=\"dataframe\">\n",
       "  <thead>\n",
       "    <tr style=\"text-align: right;\">\n",
       "      <th></th>\n",
       "      <th>avg_age</th>\n",
       "      <th>max_age</th>\n",
       "      <th>min_age</th>\n",
       "      <th>Tumour_Stage</th>\n",
       "    </tr>\n",
       "  </thead>\n",
       "  <tbody>\n",
       "    <tr>\n",
       "      <th>0</th>\n",
       "      <td>62.359375</td>\n",
       "      <td>89.0</td>\n",
       "      <td>29.0</td>\n",
       "      <td>I</td>\n",
       "    </tr>\n",
       "    <tr>\n",
       "      <th>1</th>\n",
       "      <td>59.052910</td>\n",
       "      <td>88.0</td>\n",
       "      <td>29.0</td>\n",
       "      <td>II</td>\n",
       "    </tr>\n",
       "    <tr>\n",
       "      <th>2</th>\n",
       "      <td>55.753086</td>\n",
       "      <td>90.0</td>\n",
       "      <td>36.0</td>\n",
       "      <td>III</td>\n",
       "    </tr>\n",
       "  </tbody>\n",
       "</table>\n",
       "</div>"
      ],
      "text/plain": [
       "     avg_age  max_age  min_age Tumour_Stage\n",
       "0  62.359375     89.0     29.0            I\n",
       "1  59.052910     88.0     29.0           II\n",
       "2  55.753086     90.0     36.0          III"
      ]
     },
     "execution_count": 10,
     "metadata": {},
     "output_type": "execute_result"
    }
   ],
   "source": [
    "#Finding max and min ages for each tumor stage\n",
    "\n",
    "query1 = \"\"\"\n",
    "SELECT AVG(Age) AS avg_age,\n",
    "    MAX(Age) AS max_age,\n",
    "    MIN(Age) AS min_age,\n",
    "    Tumour_Stage\n",
    "FROM brca_cleaned\n",
    "GROUP BY Tumour_Stage\n",
    "ORDER BY Tumour_Stage ASC\n",
    ";\n",
    "\"\"\"\n",
    "\n",
    "df_age_stats = pd.read_sql(query1, con = engine)\n",
    "df_age_stats"
   ]
  },
  {
   "cell_type": "code",
   "execution_count": 11,
   "id": "ea22cee8-78b6-40b2-af0c-0bedf1874935",
   "metadata": {},
   "outputs": [
    {
     "data": {
      "text/html": [
       "<div>\n",
       "<style scoped>\n",
       "    .dataframe tbody tr th:only-of-type {\n",
       "        vertical-align: middle;\n",
       "    }\n",
       "\n",
       "    .dataframe tbody tr th {\n",
       "        vertical-align: top;\n",
       "    }\n",
       "\n",
       "    .dataframe thead th {\n",
       "        text-align: right;\n",
       "    }\n",
       "</style>\n",
       "<table border=\"1\" class=\"dataframe\">\n",
       "  <thead>\n",
       "    <tr style=\"text-align: right;\">\n",
       "      <th></th>\n",
       "      <th>Tumour_Stage</th>\n",
       "      <th>Q3</th>\n",
       "      <th>Q1</th>\n",
       "      <th>IQR</th>\n",
       "    </tr>\n",
       "  </thead>\n",
       "  <tbody>\n",
       "    <tr>\n",
       "      <th>0</th>\n",
       "      <td>I</td>\n",
       "      <td>76.0</td>\n",
       "      <td>52.0</td>\n",
       "      <td>24.0</td>\n",
       "    </tr>\n",
       "    <tr>\n",
       "      <th>1</th>\n",
       "      <td>II</td>\n",
       "      <td>68.0</td>\n",
       "      <td>50.0</td>\n",
       "      <td>18.0</td>\n",
       "    </tr>\n",
       "    <tr>\n",
       "      <th>2</th>\n",
       "      <td>III</td>\n",
       "      <td>62.0</td>\n",
       "      <td>47.0</td>\n",
       "      <td>15.0</td>\n",
       "    </tr>\n",
       "  </tbody>\n",
       "</table>\n",
       "</div>"
      ],
      "text/plain": [
       "  Tumour_Stage    Q3    Q1   IQR\n",
       "0            I  76.0  52.0  24.0\n",
       "1           II  68.0  50.0  18.0\n",
       "2          III  62.0  47.0  15.0"
      ]
     },
     "execution_count": 11,
     "metadata": {},
     "output_type": "execute_result"
    }
   ],
   "source": [
    "query2 = \"\"\"\n",
    "WITH ranked AS (\n",
    "    SELECT\n",
    "        Tumour_Stage,\n",
    "        Age,\n",
    "        ROW_NUMBER() OVER (PARTITION BY Tumour_Stage ORDER BY Age) AS rn,\n",
    "        COUNT(*) OVER (PARTITION BY Tumour_Stage) AS cnt\n",
    "    FROM brca_cleaned\n",
    ")\n",
    "SELECT\n",
    "    t1.Tumour_Stage,\n",
    "    t3.Age AS Q3,\n",
    "    t1.Age AS Q1,\n",
    "    t3.Age - t1.Age AS IQR\n",
    "FROM ranked t1\n",
    "JOIN ranked t3\n",
    "    ON t1.Tumour_Stage = t3.Tumour_Stage\n",
    "    AND t1.rn = FLOOR(t1.cnt * 0.25) + 1\n",
    "    AND t3.rn = FLOOR(t3.cnt * 0.75) + 1;\n",
    "\"\"\"\n",
    "\n",
    "df_iqr = pd.read_sql(query2, con = engine)\n",
    "df_iqr"
   ]
  },
  {
   "cell_type": "markdown",
   "id": "8173a62b-e1b2-40e9-9869-33d77e9a1ec8",
   "metadata": {},
   "source": [
    "**Summary of Findings:**\n",
    "\n",
    "- **Average age decreases as tumor stage progresses**\n",
    "  - Stage I: ~62 years\n",
    "  - Stage II: ~59 years\n",
    "  - Stage III: ~56 years\n",
    "\n",
    "\n",
    "- **Younger patients are more common in higher stages**\n",
    "  - Q1 decreases from 52 (Stage I) to 47 (Stage III).\n",
    "  - Indicates more younger patients present in advanced stages.\n",
    "\n",
    "- **Age variation narrows with stage**\n",
    "  - IQR: Stage I = 24 years -> Stage III = 15 years.\n",
    "  - Suggest easly-stage patients have more diverseages, later-stage patients are clustered.\n",
    "\n",
    "- **Min/Max pattersn**\n",
    "  - Min age: Stage I & II = 29 years; Stage III = 36 years\n",
    "  - Max age: ~88-90 across all stages\n",
    "\n",
    "**Interpretation:**\n",
    "\n",
    "Older patients are more common in Stage I, but younger patients show up more often in advanced stages. Age variability is highest in early stages and narrows as the disease advanaces."
   ]
  },
  {
   "cell_type": "code",
   "execution_count": 12,
   "id": "aa61b501-4158-4b8d-9365-0185d0db2c04",
   "metadata": {},
   "outputs": [
    {
     "name": "stdout",
     "output_type": "stream",
     "text": [
      "Requirement already satisfied: seaborn in /Users/nataliealba/PycharmProjects/Breast_Cancer_Data_Analytics/venv/lib/python3.11/site-packages (0.13.2)\n",
      "Requirement already satisfied: numpy!=1.24.0,>=1.20 in /Users/nataliealba/PycharmProjects/Breast_Cancer_Data_Analytics/venv/lib/python3.11/site-packages (from seaborn) (2.3.2)\n",
      "Requirement already satisfied: pandas>=1.2 in /Users/nataliealba/PycharmProjects/Breast_Cancer_Data_Analytics/venv/lib/python3.11/site-packages (from seaborn) (2.3.1)\n",
      "Requirement already satisfied: matplotlib!=3.6.1,>=3.4 in /Users/nataliealba/PycharmProjects/Breast_Cancer_Data_Analytics/venv/lib/python3.11/site-packages (from seaborn) (3.10.5)\n",
      "Requirement already satisfied: contourpy>=1.0.1 in /Users/nataliealba/PycharmProjects/Breast_Cancer_Data_Analytics/venv/lib/python3.11/site-packages (from matplotlib!=3.6.1,>=3.4->seaborn) (1.3.3)\n",
      "Requirement already satisfied: cycler>=0.10 in /Users/nataliealba/PycharmProjects/Breast_Cancer_Data_Analytics/venv/lib/python3.11/site-packages (from matplotlib!=3.6.1,>=3.4->seaborn) (0.12.1)\n",
      "Requirement already satisfied: fonttools>=4.22.0 in /Users/nataliealba/PycharmProjects/Breast_Cancer_Data_Analytics/venv/lib/python3.11/site-packages (from matplotlib!=3.6.1,>=3.4->seaborn) (4.59.1)\n",
      "Requirement already satisfied: kiwisolver>=1.3.1 in /Users/nataliealba/PycharmProjects/Breast_Cancer_Data_Analytics/venv/lib/python3.11/site-packages (from matplotlib!=3.6.1,>=3.4->seaborn) (1.4.9)\n",
      "Requirement already satisfied: packaging>=20.0 in /Users/nataliealba/PycharmProjects/Breast_Cancer_Data_Analytics/venv/lib/python3.11/site-packages (from matplotlib!=3.6.1,>=3.4->seaborn) (25.0)\n",
      "Requirement already satisfied: pillow>=8 in /Users/nataliealba/PycharmProjects/Breast_Cancer_Data_Analytics/venv/lib/python3.11/site-packages (from matplotlib!=3.6.1,>=3.4->seaborn) (11.3.0)\n",
      "Requirement already satisfied: pyparsing>=2.3.1 in /Users/nataliealba/PycharmProjects/Breast_Cancer_Data_Analytics/venv/lib/python3.11/site-packages (from matplotlib!=3.6.1,>=3.4->seaborn) (3.2.3)\n",
      "Requirement already satisfied: python-dateutil>=2.7 in /Users/nataliealba/PycharmProjects/Breast_Cancer_Data_Analytics/venv/lib/python3.11/site-packages (from matplotlib!=3.6.1,>=3.4->seaborn) (2.9.0.post0)\n",
      "Requirement already satisfied: pytz>=2020.1 in /Users/nataliealba/PycharmProjects/Breast_Cancer_Data_Analytics/venv/lib/python3.11/site-packages (from pandas>=1.2->seaborn) (2025.2)\n",
      "Requirement already satisfied: tzdata>=2022.7 in /Users/nataliealba/PycharmProjects/Breast_Cancer_Data_Analytics/venv/lib/python3.11/site-packages (from pandas>=1.2->seaborn) (2025.2)\n",
      "Requirement already satisfied: six>=1.5 in /Users/nataliealba/PycharmProjects/Breast_Cancer_Data_Analytics/venv/lib/python3.11/site-packages (from python-dateutil>=2.7->matplotlib!=3.6.1,>=3.4->seaborn) (1.17.0)\n",
      "\n",
      "\u001b[1m[\u001b[0m\u001b[34;49mnotice\u001b[0m\u001b[1;39;49m]\u001b[0m\u001b[39;49m A new release of pip available: \u001b[0m\u001b[31;49m22.3.1\u001b[0m\u001b[39;49m -> \u001b[0m\u001b[32;49m25.2\u001b[0m\n",
      "\u001b[1m[\u001b[0m\u001b[34;49mnotice\u001b[0m\u001b[1;39;49m]\u001b[0m\u001b[39;49m To update, run: \u001b[0m\u001b[32;49mpip install --upgrade pip\u001b[0m\n"
     ]
    }
   ],
   "source": [
    "!pip install seaborn"
   ]
  },
  {
   "cell_type": "code",
   "execution_count": 13,
   "id": "860c7b4c-24c6-4a07-9b7e-4aa4decec35b",
   "metadata": {},
   "outputs": [
    {
     "data": {
      "image/png": "[encoded data removed]",
      "text/plain": [
       "<Figure size 800x600 with 1 Axes>"
      ]
     },
     "metadata": {},
     "output_type": "display_data"
    }
   ],
   "source": [
    "import matplotlib.pyplot as plt\n",
    "import seaborn as sns\n",
    "\n",
    "plt.figure(figsize=(8,6))\n",
    "sns.boxplot(\n",
    "    x='Tumour_Stage',\n",
    "    y='Age',\n",
    "    data=df,\n",
    "    color='skyblue',           \n",
    "    order=['I', 'II', 'III']   \n",
    ")\n",
    "plt.title('Patient Age Distribution by Tumour Stage')\n",
    "plt.xlabel('Tumour Stage')\n",
    "plt.ylabel('Patient Age')\n",
    "plt.show()\n"
   ]
  },
  {
   "cell_type": "markdown",
   "id": "85d06bc2-4c4f-44ef-91f9-9c23428b93dd",
   "metadata": {},
   "source": [
    "Figure 1: Stage III shows two older outliers in patient age. While most Stage III patients are younger on average, these older cases slightly increase the maximum age but do not change the overall trend that higher stages are more frequently observed in younger patients."
   ]
  },
  {
   "cell_type": "markdown",
   "id": "b12677c7-93d5-44e2-a244-0a0e652f3436",
   "metadata": {},
   "source": [
    "\n",
    "**Question 2: Do protein expression levels predict tumor stage progression?**\n",
    "\n",
    "Here, I will examine whether or not the average expression levels of Proteins 1-4 change systematically across tumor stages (I-III). "
   ]
  },
  {
   "cell_type": "code",
   "execution_count": 14,
   "id": "5b16198d-dfcf-49e1-a00b-d51e16533036",
   "metadata": {},
   "outputs": [
    {
     "data": {
      "text/html": [
       "<div>\n",
       "<style scoped>\n",
       "    .dataframe tbody tr th:only-of-type {\n",
       "        vertical-align: middle;\n",
       "    }\n",
       "\n",
       "    .dataframe tbody tr th {\n",
       "        vertical-align: top;\n",
       "    }\n",
       "\n",
       "    .dataframe thead th {\n",
       "        text-align: right;\n",
       "    }\n",
       "</style>\n",
       "<table border=\"1\" class=\"dataframe\">\n",
       "  <thead>\n",
       "    <tr style=\"text-align: right;\">\n",
       "      <th></th>\n",
       "      <th>Tumour_Stage</th>\n",
       "      <th>avg_protein1</th>\n",
       "      <th>avg_protein2</th>\n",
       "      <th>avg_protein3</th>\n",
       "      <th>avg_protein4</th>\n",
       "    </tr>\n",
       "  </thead>\n",
       "  <tbody>\n",
       "    <tr>\n",
       "      <th>0</th>\n",
       "      <td>I</td>\n",
       "      <td>-0.014430</td>\n",
       "      <td>1.001318</td>\n",
       "      <td>-0.165147</td>\n",
       "      <td>0.037828</td>\n",
       "    </tr>\n",
       "    <tr>\n",
       "      <th>1</th>\n",
       "      <td>II</td>\n",
       "      <td>-0.007734</td>\n",
       "      <td>0.964763</td>\n",
       "      <td>-0.065409</td>\n",
       "      <td>0.018023</td>\n",
       "    </tr>\n",
       "    <tr>\n",
       "      <th>2</th>\n",
       "      <td>III</td>\n",
       "      <td>-0.094220</td>\n",
       "      <td>0.862207</td>\n",
       "      <td>-0.088845</td>\n",
       "      <td>-0.031453</td>\n",
       "    </tr>\n",
       "  </tbody>\n",
       "</table>\n",
       "</div>"
      ],
      "text/plain": [
       "  Tumour_Stage  avg_protein1  avg_protein2  avg_protein3  avg_protein4\n",
       "0            I     -0.014430      1.001318     -0.165147      0.037828\n",
       "1           II     -0.007734      0.964763     -0.065409      0.018023\n",
       "2          III     -0.094220      0.862207     -0.088845     -0.031453"
      ]
     },
     "execution_count": 14,
     "metadata": {},
     "output_type": "execute_result"
    }
   ],
   "source": [
    "#Finding protein average for each protein for each tumor stage\n",
    "\n",
    "query3 = \"\"\"\n",
    "SELECT Tumour_Stage,\n",
    "       AVG(Protein1) AS avg_protein1,\n",
    "       AVG(Protein2) AS avg_protein2,\n",
    "       AVG(Protein3) AS avg_protein3,\n",
    "       AVG(Protein4) AS avg_protein4\n",
    "FROM brca_cleaned\n",
    "GROUP BY Tumour_Stage\n",
    "ORDER BY FIELD(Tumour_Stage, 'I','II','III');\n",
    "\"\"\"\n",
    "\n",
    "df_proteins_avg = pd.read_sql(query3, con = engine)\n",
    "df_proteins_avg"
   ]
  },
  {
   "cell_type": "code",
   "execution_count": 15,
   "id": "ffd1ecc2-7152-4809-b9a6-c934443e5513",
   "metadata": {},
   "outputs": [
    {
     "data": {
      "text/html": [
       "<div>\n",
       "<style scoped>\n",
       "    .dataframe tbody tr th:only-of-type {\n",
       "        vertical-align: middle;\n",
       "    }\n",
       "\n",
       "    .dataframe tbody tr th {\n",
       "        vertical-align: top;\n",
       "    }\n",
       "\n",
       "    .dataframe thead th {\n",
       "        text-align: right;\n",
       "    }\n",
       "</style>\n",
       "<table border=\"1\" class=\"dataframe\">\n",
       "  <thead>\n",
       "    <tr style=\"text-align: right;\">\n",
       "      <th></th>\n",
       "      <th>Tumour_Stage</th>\n",
       "      <th>sd_p1</th>\n",
       "      <th>sd_p2</th>\n",
       "      <th>sd_p3</th>\n",
       "      <th>sd_p4</th>\n",
       "    </tr>\n",
       "  </thead>\n",
       "  <tbody>\n",
       "    <tr>\n",
       "      <th>0</th>\n",
       "      <td>I</td>\n",
       "      <td>0.519845</td>\n",
       "      <td>0.896433</td>\n",
       "      <td>0.509595</td>\n",
       "      <td>0.608021</td>\n",
       "    </tr>\n",
       "    <tr>\n",
       "      <th>1</th>\n",
       "      <td>II</td>\n",
       "      <td>0.550112</td>\n",
       "      <td>0.879692</td>\n",
       "      <td>0.595760</td>\n",
       "      <td>0.638237</td>\n",
       "    </tr>\n",
       "    <tr>\n",
       "      <th>2</th>\n",
       "      <td>III</td>\n",
       "      <td>0.617011</td>\n",
       "      <td>0.982754</td>\n",
       "      <td>0.607073</td>\n",
       "      <td>0.617861</td>\n",
       "    </tr>\n",
       "  </tbody>\n",
       "</table>\n",
       "</div>"
      ],
      "text/plain": [
       "  Tumour_Stage     sd_p1     sd_p2     sd_p3     sd_p4\n",
       "0            I  0.519845  0.896433  0.509595  0.608021\n",
       "1           II  0.550112  0.879692  0.595760  0.638237\n",
       "2          III  0.617011  0.982754  0.607073  0.617861"
      ]
     },
     "execution_count": 15,
     "metadata": {},
     "output_type": "execute_result"
    }
   ],
   "source": [
    "#Finding protein standard deviations for each protein for each tumor stage\n",
    "\n",
    "query4 = \"\"\"\n",
    "SELECT Tumour_Stage,\n",
    "\tSTDDEV(Protein1) AS sd_p1, \n",
    "    STDDEV(Protein2) AS sd_p2, \n",
    "    STDDEV(Protein3) AS sd_p3, \n",
    "    STDDEV(Protein4) AS sd_p4\n",
    "FROM brca_cleaned\n",
    "GROUP BY Tumour_Stage\n",
    "ORDER BY FIELD(Tumour_Stage, 'I', 'II', 'III');\n",
    "\"\"\"\n",
    "\n",
    "df_proteins_sd = pd.read_sql(query4, con = engine)\n",
    "df_proteins_sd"
   ]
  },
  {
   "cell_type": "code",
   "execution_count": 16,
   "id": "89eb9b26-599c-4d2a-9dfb-b7e3b44160c0",
   "metadata": {},
   "outputs": [
    {
     "data": {
      "image/png": "[encoded data removed]",
      "text/plain": [
       "<Figure size 800x600 with 1 Axes>"
      ]
     },
     "metadata": {},
     "output_type": "display_data"
    }
   ],
   "source": [
    "#Creating visuals to compare protein averages across stages\n",
    "\n",
    "stages = ['I', 'II', 'III']\n",
    "protein1 = [-0.01443, -0.00773, -0.09422]\n",
    "protein2 = [1.00132, 0.96476, 0.86221]\n",
    "protein3 = [-0.16514, -0.06540, -0.08884]\n",
    "protein4 = [0.03782, 0.01802, -0.03145]\n",
    "\n",
    "\n",
    "protein_data = {\n",
    "    'Stage': stages*4,\n",
    "    'Protein': ['Protein 1']*3 + ['Protein 2']*3 + ['Protein 3']*3 + ['Protein 4']*3,\n",
    "    'Average_Level': protein1 + protein2 + protein3 + protein4\n",
    "}\n",
    "\n",
    "\n",
    "\n",
    "df_plot = pd.DataFrame(protein_data)\n",
    "\n",
    "plt.figure(figsize=(8,6))\n",
    "sns.barplot(x='Stage', y='Average_Level', hue='Protein', data=df_plot, palette='Set2')\n",
    "plt.title('Average Protein Expression by Tumour Stage')\n",
    "plt.xlabel('Tumour Stage')\n",
    "plt.ylabel('Average Protein Level')\n",
    "plt.legend(title='Protein')\n",
    "plt.show()\n"
   ]
  },
  {
   "cell_type": "markdown",
   "id": "33ecdb26-37f2-43b4-88f0-931773899e9f",
   "metadata": {},
   "source": [
    "Figure 2: Displays the patterns between Proteins 1-4."
   ]
  },
  {
   "cell_type": "markdown",
   "id": "b8fb7615-3e60-46ef-b28a-ee2336337eda",
   "metadata": {},
   "source": [
    "\n",
    "**Summary of Findings**\n",
    "\n",
    "- Analysis of average protein expression levels across tumor stages reveals distinct trends:\n",
    "  - Protein 2 and Protein 4 show a clear downward trend from Stage I to Stage III, suggesting that lower levels may signal more advanced tumors\n",
    "  - Protein 1 decreases noteably at Stage III, but the change is less consistent than Protein 2 and 4\n",
    "  - Protein 3 exhibits a non-linear pattern, rising slightly at Stage II before dropping again at Stage III, indicating it may not be a straightforward marker of progression\n",
    "\n",
    "- Analysis of variability reveals:\n",
    "  - Most proteins show stable or slightly increasing variability across stages, reflecting greater heterogeneity in expression among patients with advanced disease.\n",
    "\n",
    "\n",
    "**Interpretation**\n",
    "\n",
    "These trends suggest that Protein 2 and 4 are the strongest candidates for biomarkers of tumor stage progression. Protein 1 may also contribute, though less strongly as it has a weaker association with stage progression. Protein 3's non-linear behavior indicates additional factors may influence its expression. Monitoring these proteins could help predict tumor severity and guide further research on prognstic markers.\n"
   ]
  },
  {
   "cell_type": "markdown",
   "id": "5a1aa384-5cc5-4d4b-a4fb-9a05969b6b1b",
   "metadata": {},
   "source": [
    "\n",
    "**Question 3: Are certain receptor statuses (ER, PR, HER2) more prevalent in advanced tumor stages?**\n",
    "\n",
    "Here, I will examine whether or not hormone and growth factor receptor statuses vary with tumor stage, highlighting potential biomarkers for disease progression."
   ]
  },
  {
   "cell_type": "code",
   "execution_count": 17,
   "id": "150f5243-c919-4ee7-bc3c-810609d48c0a",
   "metadata": {},
   "outputs": [
    {
     "data": {
      "text/html": [
       "<div>\n",
       "<style scoped>\n",
       "    .dataframe tbody tr th:only-of-type {\n",
       "        vertical-align: middle;\n",
       "    }\n",
       "\n",
       "    .dataframe tbody tr th {\n",
       "        vertical-align: top;\n",
       "    }\n",
       "\n",
       "    .dataframe thead th {\n",
       "        text-align: right;\n",
       "    }\n",
       "</style>\n",
       "<table border=\"1\" class=\"dataframe\">\n",
       "  <thead>\n",
       "    <tr style=\"text-align: right;\">\n",
       "      <th></th>\n",
       "      <th>Tumour_Stage</th>\n",
       "      <th>ER_Status</th>\n",
       "      <th>count_ER</th>\n",
       "    </tr>\n",
       "  </thead>\n",
       "  <tbody>\n",
       "    <tr>\n",
       "      <th>0</th>\n",
       "      <td>I</td>\n",
       "      <td>Positive</td>\n",
       "      <td>64</td>\n",
       "    </tr>\n",
       "    <tr>\n",
       "      <th>1</th>\n",
       "      <td>II</td>\n",
       "      <td>Positive</td>\n",
       "      <td>189</td>\n",
       "    </tr>\n",
       "    <tr>\n",
       "      <th>2</th>\n",
       "      <td>III</td>\n",
       "      <td>Positive</td>\n",
       "      <td>81</td>\n",
       "    </tr>\n",
       "  </tbody>\n",
       "</table>\n",
       "</div>"
      ],
      "text/plain": [
       "  Tumour_Stage ER_Status  count_ER\n",
       "0            I  Positive        64\n",
       "1           II  Positive       189\n",
       "2          III  Positive        81"
      ]
     },
     "execution_count": 17,
     "metadata": {},
     "output_type": "execute_result"
    }
   ],
   "source": [
    "#Shows the ER status for each stage, along with their count\n",
    "\n",
    "query5 = \"\"\"\n",
    "SELECT Tumour_Stage,\n",
    "       `ER status` AS ER_Status,\n",
    "       COUNT(*) AS count_ER\n",
    "FROM brca_cleaned\n",
    "GROUP BY Tumour_Stage, `ER status`\n",
    "ORDER BY FIELD(Tumour_Stage, 'I','II','III'), ER_Status;\n",
    "\"\"\"\n",
    "\n",
    "df_er_status = pd.read_sql(query5, con = engine)\n",
    "df_er_status"
   ]
  },
  {
   "cell_type": "code",
   "execution_count": 18,
   "id": "711a8731-8840-455e-848e-501bb8ad4ba6",
   "metadata": {},
   "outputs": [
    {
     "data": {
      "text/html": [
       "<div>\n",
       "<style scoped>\n",
       "    .dataframe tbody tr th:only-of-type {\n",
       "        vertical-align: middle;\n",
       "    }\n",
       "\n",
       "    .dataframe tbody tr th {\n",
       "        vertical-align: top;\n",
       "    }\n",
       "\n",
       "    .dataframe thead th {\n",
       "        text-align: right;\n",
       "    }\n",
       "</style>\n",
       "<table border=\"1\" class=\"dataframe\">\n",
       "  <thead>\n",
       "    <tr style=\"text-align: right;\">\n",
       "      <th></th>\n",
       "      <th>Tumour_Stage</th>\n",
       "      <th>PR_Status</th>\n",
       "      <th>count_PR</th>\n",
       "    </tr>\n",
       "  </thead>\n",
       "  <tbody>\n",
       "    <tr>\n",
       "      <th>0</th>\n",
       "      <td>I</td>\n",
       "      <td>Positive</td>\n",
       "      <td>64</td>\n",
       "    </tr>\n",
       "    <tr>\n",
       "      <th>1</th>\n",
       "      <td>II</td>\n",
       "      <td>Positive</td>\n",
       "      <td>189</td>\n",
       "    </tr>\n",
       "    <tr>\n",
       "      <th>2</th>\n",
       "      <td>III</td>\n",
       "      <td>Positive</td>\n",
       "      <td>81</td>\n",
       "    </tr>\n",
       "  </tbody>\n",
       "</table>\n",
       "</div>"
      ],
      "text/plain": [
       "  Tumour_Stage PR_Status  count_PR\n",
       "0            I  Positive        64\n",
       "1           II  Positive       189\n",
       "2          III  Positive        81"
      ]
     },
     "execution_count": 18,
     "metadata": {},
     "output_type": "execute_result"
    }
   ],
   "source": [
    "#Shows the PR status for each stage, along with their count\n",
    "\n",
    "query6 = \"\"\"\n",
    "SELECT Tumour_Stage,\n",
    "       `PR status` AS PR_Status,\n",
    "       COUNT(*) AS count_PR\n",
    "FROM brca_cleaned\n",
    "GROUP BY Tumour_Stage, `PR status`\n",
    "ORDER BY FIELD(Tumour_Stage, 'I','II','III'), PR_Status;\n",
    "\"\"\"\n",
    "\n",
    "df_pr_status = pd.read_sql(query6, con = engine)\n",
    "df_pr_status"
   ]
  },
  {
   "cell_type": "code",
   "execution_count": 19,
   "id": "3c4adb28-1f98-4322-b017-38d618d41ffa",
   "metadata": {},
   "outputs": [
    {
     "data": {
      "text/html": [
       "<div>\n",
       "<style scoped>\n",
       "    .dataframe tbody tr th:only-of-type {\n",
       "        vertical-align: middle;\n",
       "    }\n",
       "\n",
       "    .dataframe tbody tr th {\n",
       "        vertical-align: top;\n",
       "    }\n",
       "\n",
       "    .dataframe thead th {\n",
       "        text-align: right;\n",
       "    }\n",
       "</style>\n",
       "<table border=\"1\" class=\"dataframe\">\n",
       "  <thead>\n",
       "    <tr style=\"text-align: right;\">\n",
       "      <th></th>\n",
       "      <th>Tumour_Stage</th>\n",
       "      <th>HER2_Status</th>\n",
       "      <th>count_HER2</th>\n",
       "    </tr>\n",
       "  </thead>\n",
       "  <tbody>\n",
       "    <tr>\n",
       "      <th>0</th>\n",
       "      <td>I</td>\n",
       "      <td>Negative</td>\n",
       "      <td>61</td>\n",
       "    </tr>\n",
       "    <tr>\n",
       "      <th>1</th>\n",
       "      <td>I</td>\n",
       "      <td>Positive</td>\n",
       "      <td>3</td>\n",
       "    </tr>\n",
       "    <tr>\n",
       "      <th>2</th>\n",
       "      <td>II</td>\n",
       "      <td>Negative</td>\n",
       "      <td>176</td>\n",
       "    </tr>\n",
       "    <tr>\n",
       "      <th>3</th>\n",
       "      <td>II</td>\n",
       "      <td>Positive</td>\n",
       "      <td>13</td>\n",
       "    </tr>\n",
       "    <tr>\n",
       "      <th>4</th>\n",
       "      <td>III</td>\n",
       "      <td>Negative</td>\n",
       "      <td>68</td>\n",
       "    </tr>\n",
       "    <tr>\n",
       "      <th>5</th>\n",
       "      <td>III</td>\n",
       "      <td>Positive</td>\n",
       "      <td>13</td>\n",
       "    </tr>\n",
       "  </tbody>\n",
       "</table>\n",
       "</div>"
      ],
      "text/plain": [
       "  Tumour_Stage HER2_Status  count_HER2\n",
       "0            I    Negative          61\n",
       "1            I    Positive           3\n",
       "2           II    Negative         176\n",
       "3           II    Positive          13\n",
       "4          III    Negative          68\n",
       "5          III    Positive          13"
      ]
     },
     "execution_count": 19,
     "metadata": {},
     "output_type": "execute_result"
    }
   ],
   "source": [
    "#Shows the HER2 status for each stage, along with their count\n",
    "\n",
    "query7 = \"\"\"\n",
    "SELECT Tumour_Stage,\n",
    "       `HER2 status` AS HER2_Status,\n",
    "       COUNT(*) AS count_HER2\n",
    "FROM brca_cleaned\n",
    "GROUP BY Tumour_Stage, `HER2 status`\n",
    "ORDER BY FIELD(Tumour_Stage, 'I','II','III'), HER2_Status;\n",
    "\"\"\"\n",
    "\n",
    "df_her2_status = pd.read_sql(query7, con = engine)\n",
    "df_her2_status"
   ]
  },
  {
   "cell_type": "markdown",
   "id": "f1f1d418-ecc9-47a7-867a-683560485052",
   "metadata": {},
   "source": [
    "There seems to be no variation in receptor status for ER and PR receptors (positive across all stages of the disease). However, HER2 status shows positives and negatives across all three stages. Because count is inconsistent and may make results misleading, I will instead inspect the percentages of HER2 statuses for each tumor stage for a more accurate representation."
   ]
  },
  {
   "cell_type": "code",
   "execution_count": 20,
   "id": "add39876-e064-4f9d-9564-c2d8cbefc6f3",
   "metadata": {},
   "outputs": [
    {
     "data": {
      "text/html": [
       "<div>\n",
       "<style scoped>\n",
       "    .dataframe tbody tr th:only-of-type {\n",
       "        vertical-align: middle;\n",
       "    }\n",
       "\n",
       "    .dataframe tbody tr th {\n",
       "        vertical-align: top;\n",
       "    }\n",
       "\n",
       "    .dataframe thead th {\n",
       "        text-align: right;\n",
       "    }\n",
       "</style>\n",
       "<table border=\"1\" class=\"dataframe\">\n",
       "  <thead>\n",
       "    <tr style=\"text-align: right;\">\n",
       "      <th></th>\n",
       "      <th>Tumour_Stage</th>\n",
       "      <th>HER2_Status</th>\n",
       "      <th>percentage</th>\n",
       "    </tr>\n",
       "  </thead>\n",
       "  <tbody>\n",
       "    <tr>\n",
       "      <th>0</th>\n",
       "      <td>I</td>\n",
       "      <td>Negative</td>\n",
       "      <td>95.31250</td>\n",
       "    </tr>\n",
       "    <tr>\n",
       "      <th>1</th>\n",
       "      <td>I</td>\n",
       "      <td>Positive</td>\n",
       "      <td>4.68750</td>\n",
       "    </tr>\n",
       "    <tr>\n",
       "      <th>2</th>\n",
       "      <td>II</td>\n",
       "      <td>Negative</td>\n",
       "      <td>93.12169</td>\n",
       "    </tr>\n",
       "    <tr>\n",
       "      <th>3</th>\n",
       "      <td>II</td>\n",
       "      <td>Positive</td>\n",
       "      <td>6.87831</td>\n",
       "    </tr>\n",
       "    <tr>\n",
       "      <th>4</th>\n",
       "      <td>III</td>\n",
       "      <td>Negative</td>\n",
       "      <td>83.95062</td>\n",
       "    </tr>\n",
       "    <tr>\n",
       "      <th>5</th>\n",
       "      <td>III</td>\n",
       "      <td>Positive</td>\n",
       "      <td>16.04938</td>\n",
       "    </tr>\n",
       "  </tbody>\n",
       "</table>\n",
       "</div>"
      ],
      "text/plain": [
       "  Tumour_Stage HER2_Status  percentage\n",
       "0            I    Negative    95.31250\n",
       "1            I    Positive     4.68750\n",
       "2           II    Negative    93.12169\n",
       "3           II    Positive     6.87831\n",
       "4          III    Negative    83.95062\n",
       "5          III    Positive    16.04938"
      ]
     },
     "execution_count": 20,
     "metadata": {},
     "output_type": "execute_result"
    }
   ],
   "source": [
    "#Shows the percentage of positives and negatives for HER2\n",
    "#Only HER2 is considered since ER and PR both only have positives (no variation in receptor status)\n",
    "\n",
    "query8 = \"\"\"\n",
    "SELECT Tumour_Stage,\n",
    "       `HER2 status` AS HER2_Status,\n",
    "       COUNT(*) * 100.0 / (SELECT COUNT(*) FROM brca_cleaned b2 WHERE b2.Tumour_Stage = b1.Tumour_Stage) AS percentage\n",
    "FROM brca_cleaned b1\n",
    "GROUP BY Tumour_Stage, `HER2 status`\n",
    "ORDER BY FIELD(Tumour_Stage, 'I','II','III'), HER2_Status;\n",
    "\"\"\"\n",
    "\n",
    "df_her2_percent = pd.read_sql(query8, con = engine)\n",
    "df_her2_percent\n"
   ]
  },
  {
   "cell_type": "markdown",
   "id": "9ca26b22-ae7d-4284-ba43-a1de93e28456",
   "metadata": {},
   "source": [
    "After looking at the percentages of positives and negatives for HER2, positives appear to increase with stage progression."
   ]
  },
  {
   "cell_type": "markdown",
   "id": "0503f504-d004-479f-b6ab-ce5a59104a9a",
   "metadata": {},
   "source": [
    "I will now look at what stage each receptor status is either positive or negative to determine if there are patterns within early stages (I-II) and late stages (III) of the disease."
   ]
  },
  {
   "cell_type": "code",
   "execution_count": 21,
   "id": "3cf9fc63-4cfc-4410-9044-fffafa376351",
   "metadata": {},
   "outputs": [
    {
     "data": {
      "text/html": [
       "<div>\n",
       "<style scoped>\n",
       "    .dataframe tbody tr th:only-of-type {\n",
       "        vertical-align: middle;\n",
       "    }\n",
       "\n",
       "    .dataframe tbody tr th {\n",
       "        vertical-align: top;\n",
       "    }\n",
       "\n",
       "    .dataframe thead th {\n",
       "        text-align: right;\n",
       "    }\n",
       "</style>\n",
       "<table border=\"1\" class=\"dataframe\">\n",
       "  <thead>\n",
       "    <tr style=\"text-align: right;\">\n",
       "      <th></th>\n",
       "      <th>Stage_Group</th>\n",
       "      <th>ER_Status</th>\n",
       "      <th>count</th>\n",
       "    </tr>\n",
       "  </thead>\n",
       "  <tbody>\n",
       "    <tr>\n",
       "      <th>0</th>\n",
       "      <td>Late</td>\n",
       "      <td>Positive</td>\n",
       "      <td>81</td>\n",
       "    </tr>\n",
       "    <tr>\n",
       "      <th>1</th>\n",
       "      <td>Early</td>\n",
       "      <td>Positive</td>\n",
       "      <td>253</td>\n",
       "    </tr>\n",
       "  </tbody>\n",
       "</table>\n",
       "</div>"
      ],
      "text/plain": [
       "  Stage_Group ER_Status  count\n",
       "0        Late  Positive     81\n",
       "1       Early  Positive    253"
      ]
     },
     "execution_count": 21,
     "metadata": {},
     "output_type": "execute_result"
    }
   ],
   "source": [
    "#Groups ER status results in either early or late depending on the tumor stage they were found in\n",
    "\n",
    "query9 = \"\"\"\n",
    "SELECT \n",
    "    CASE WHEN Tumour_Stage IN ('I','II') THEN 'Early' ELSE 'Late' END AS Stage_Group,\n",
    "    `ER status` AS ER_Status,\n",
    "    COUNT(*) AS count\n",
    "FROM brca_cleaned\n",
    "GROUP BY Stage_Group, `ER status`;\n",
    "\"\"\"\n",
    "\n",
    "df_er_group = pd.read_sql(query9, con = engine)\n",
    "df_er_group"
   ]
  },
  {
   "cell_type": "code",
   "execution_count": 22,
   "id": "64f7789e-f38b-4b2d-bae9-bfe99dfa6e13",
   "metadata": {},
   "outputs": [
    {
     "data": {
      "text/html": [
       "<div>\n",
       "<style scoped>\n",
       "    .dataframe tbody tr th:only-of-type {\n",
       "        vertical-align: middle;\n",
       "    }\n",
       "\n",
       "    .dataframe tbody tr th {\n",
       "        vertical-align: top;\n",
       "    }\n",
       "\n",
       "    .dataframe thead th {\n",
       "        text-align: right;\n",
       "    }\n",
       "</style>\n",
       "<table border=\"1\" class=\"dataframe\">\n",
       "  <thead>\n",
       "    <tr style=\"text-align: right;\">\n",
       "      <th></th>\n",
       "      <th>Stage_Group</th>\n",
       "      <th>PR_Status</th>\n",
       "      <th>count</th>\n",
       "    </tr>\n",
       "  </thead>\n",
       "  <tbody>\n",
       "    <tr>\n",
       "      <th>0</th>\n",
       "      <td>Late</td>\n",
       "      <td>Positive</td>\n",
       "      <td>81</td>\n",
       "    </tr>\n",
       "    <tr>\n",
       "      <th>1</th>\n",
       "      <td>Early</td>\n",
       "      <td>Positive</td>\n",
       "      <td>253</td>\n",
       "    </tr>\n",
       "  </tbody>\n",
       "</table>\n",
       "</div>"
      ],
      "text/plain": [
       "  Stage_Group PR_Status  count\n",
       "0        Late  Positive     81\n",
       "1       Early  Positive    253"
      ]
     },
     "execution_count": 22,
     "metadata": {},
     "output_type": "execute_result"
    }
   ],
   "source": [
    "#Groups PR status results in either early or late depending on the tumor stage they were found in\n",
    "\n",
    "query10 = \"\"\"\n",
    "SELECT \n",
    "    CASE WHEN Tumour_Stage IN ('I','II') THEN 'Early' ELSE 'Late' END AS Stage_Group,\n",
    "    `PR status` AS PR_Status,\n",
    "    COUNT(*) AS count\n",
    "FROM brca_cleaned\n",
    "GROUP BY Stage_Group, `PR status`;\n",
    "\"\"\"\n",
    "\n",
    "df_pr_group = pd.read_sql(query10, con = engine)\n",
    "df_pr_group"
   ]
  },
  {
   "cell_type": "code",
   "execution_count": 23,
   "id": "edfc9220-a77d-4698-9399-d775d8bfafb0",
   "metadata": {},
   "outputs": [
    {
     "data": {
      "text/html": [
       "<div>\n",
       "<style scoped>\n",
       "    .dataframe tbody tr th:only-of-type {\n",
       "        vertical-align: middle;\n",
       "    }\n",
       "\n",
       "    .dataframe tbody tr th {\n",
       "        vertical-align: top;\n",
       "    }\n",
       "\n",
       "    .dataframe thead th {\n",
       "        text-align: right;\n",
       "    }\n",
       "</style>\n",
       "<table border=\"1\" class=\"dataframe\">\n",
       "  <thead>\n",
       "    <tr style=\"text-align: right;\">\n",
       "      <th></th>\n",
       "      <th>Stage_Group</th>\n",
       "      <th>HER2_Status</th>\n",
       "      <th>count</th>\n",
       "    </tr>\n",
       "  </thead>\n",
       "  <tbody>\n",
       "    <tr>\n",
       "      <th>0</th>\n",
       "      <td>Late</td>\n",
       "      <td>Negative</td>\n",
       "      <td>68</td>\n",
       "    </tr>\n",
       "    <tr>\n",
       "      <th>1</th>\n",
       "      <td>Early</td>\n",
       "      <td>Negative</td>\n",
       "      <td>237</td>\n",
       "    </tr>\n",
       "    <tr>\n",
       "      <th>2</th>\n",
       "      <td>Early</td>\n",
       "      <td>Positive</td>\n",
       "      <td>16</td>\n",
       "    </tr>\n",
       "    <tr>\n",
       "      <th>3</th>\n",
       "      <td>Late</td>\n",
       "      <td>Positive</td>\n",
       "      <td>13</td>\n",
       "    </tr>\n",
       "  </tbody>\n",
       "</table>\n",
       "</div>"
      ],
      "text/plain": [
       "  Stage_Group HER2_Status  count\n",
       "0        Late    Negative     68\n",
       "1       Early    Negative    237\n",
       "2       Early    Positive     16\n",
       "3        Late    Positive     13"
      ]
     },
     "execution_count": 23,
     "metadata": {},
     "output_type": "execute_result"
    }
   ],
   "source": [
    "#Groups HER2 status results in either early or late depending on the tumor stage they were found in\n",
    "\n",
    "query11 = \"\"\"\n",
    "SELECT \n",
    "    CASE WHEN Tumour_Stage IN ('I','II') THEN 'Early' ELSE 'Late' END AS Stage_Group,\n",
    "    `HER2 status` AS HER2_Status,\n",
    "    COUNT(*) AS count\n",
    "FROM brca_cleaned\n",
    "GROUP BY Stage_Group, `HER2 status`;\n",
    "\"\"\"\n",
    "\n",
    "df_her2_group = pd.read_sql(query11, con = engine)\n",
    "df_her2_group"
   ]
  },
  {
   "cell_type": "markdown",
   "id": "cbdd6c04-70c6-4e66-b2a0-4426b262be4f",
   "metadata": {},
   "source": [
    "**Summary of Findings**\n",
    "\n",
    "- ER and PR: Consistent positivity across all tumor stages\n",
    "- HER2: Positivity increases in later stages (Stage I: ~5% -> Stage III: 16%)\n",
    "\n",
    "**Interpretation**\n",
    "\n",
    "ER and PR receptor positivity remains consistently high across all tumor stages, indicating that these hormone receptors are not strongly associated with disease progression. In contrast, HER2 positivity increases in later stages, rising from ~5% in Stage I to 16% in Stage III. "
   ]
  },
  {
   "cell_type": "code",
   "execution_count": 24,
   "id": "e1ddec11-e91b-466e-b28a-e0d8b1d73993",
   "metadata": {},
   "outputs": [
    {
     "data": {
      "image/png": "[encoded data removed]",
      "text/plain": [
       "<Figure size 800x600 with 1 Axes>"
      ]
     },
     "metadata": {},
     "output_type": "display_data"
    }
   ],
   "source": [
    "\n",
    "data = {\n",
    "    'Stage': ['I', 'II', 'III'],\n",
    "    'ER_Pos': [100, 100, 100],   \n",
    "    'PR_Pos': [100, 100, 100],\n",
    "    'HER2_Pos': [4.69, 6.88, 16.05],\n",
    "    'HER2_Neg': [95.31, 93.12, 83.95]\n",
    "}\n",
    "\n",
    "df_receptors = pd.DataFrame(data)\n",
    "\n",
    "\n",
    "df_melted = df_receptors.melt(id_vars='Stage', \n",
    "                              value_vars=['ER_Pos', 'PR_Pos', 'HER2_Pos'], \n",
    "                              var_name='Receptor', \n",
    "                              value_name='Percentage')\n",
    "\n",
    "\n",
    "plt.figure(figsize=(8,6))\n",
    "sns.barplot(x='Stage', y='Percentage', hue='Receptor', data=df_melted, palette='Set2')\n",
    "plt.title('Receptor Positivity by Tumor Stage')\n",
    "plt.ylabel('Percentage (%)')\n",
    "plt.xlabel('Tumor Stage')\n",
    "plt.ylim(0, 110)\n",
    "plt.legend(title='Receptor')\n",
    "plt.show()\n"
   ]
  },
  {
   "cell_type": "markdown",
   "id": "683ae8b2-2bf3-4f7e-8286-9533f12e13a2",
   "metadata": {},
   "source": [
    "Figure 3: Distribution of ER and PR receptor positivity across tumor stages. Both receptors remain consistently positive across all stages, indicating stable hormone receptor expression.\n"
   ]
  },
  {
   "cell_type": "code",
   "execution_count": 25,
   "id": "938c2b60-cbb8-4e10-88f4-bc373ddafe8d",
   "metadata": {},
   "outputs": [
    {
     "data": {
      "image/png": "[encoded data removed]",
      "text/plain": [
       "<Figure size 800x600 with 1 Axes>"
      ]
     },
     "metadata": {},
     "output_type": "display_data"
    }
   ],
   "source": [
    "df_her2 = df_receptors[['Stage', 'HER2_Pos', 'HER2_Neg']].set_index('Stage')\n",
    "df_her2.plot(kind='bar', stacked=True, figsize=(8,6), color=['orange', 'lightgray'])\n",
    "plt.title('HER2 Positivity vs Negativity by Tumor Stage')\n",
    "plt.ylabel('Percentage (%)')\n",
    "plt.xlabel('Tumor Stage')\n",
    "plt.ylim(0, 100)\n",
    "plt.legend(['HER2 Positive', 'HER2 Negative'])\n",
    "plt.show()"
   ]
  },
  {
   "cell_type": "markdown",
   "id": "5001b81a-b995-4baa-940b-deacd619b848",
   "metadata": {},
   "source": [
    "Figure 4: Distribution of HER2 receptor positivity across tumor stages. HER2 positivity increases from Stage I (~5%) to Stage III (16%), suggesting a potential association with advanced tumor progression\n"
   ]
  },
  {
   "cell_type": "markdown",
   "id": "2dd68a21-b1fe-468d-a5dc-dfa0d599c57e",
   "metadata": {},
   "source": [
    "\n",
    "**Question 4: How do surgical choices vary across tumor stages?**\n",
    "\n",
    "Here, I will examine whether the distribution of surgical procedures differs between early and more advanced tumor stages. This will potentially reflect the changes in clinical decision-making as the disease progresses."
   ]
  },
  {
   "cell_type": "code",
   "execution_count": 26,
   "id": "7184dee9-6d97-4b4d-b3e2-f1f5ae357fa9",
   "metadata": {},
   "outputs": [
    {
     "data": {
      "text/html": [
       "<div>\n",
       "<style scoped>\n",
       "    .dataframe tbody tr th:only-of-type {\n",
       "        vertical-align: middle;\n",
       "    }\n",
       "\n",
       "    .dataframe tbody tr th {\n",
       "        vertical-align: top;\n",
       "    }\n",
       "\n",
       "    .dataframe thead th {\n",
       "        text-align: right;\n",
       "    }\n",
       "</style>\n",
       "<table border=\"1\" class=\"dataframe\">\n",
       "  <thead>\n",
       "    <tr style=\"text-align: right;\">\n",
       "      <th></th>\n",
       "      <th>Tumour_Stage</th>\n",
       "      <th>Surgery_Type</th>\n",
       "      <th>surgery_count</th>\n",
       "    </tr>\n",
       "  </thead>\n",
       "  <tbody>\n",
       "    <tr>\n",
       "      <th>0</th>\n",
       "      <td>I</td>\n",
       "      <td>Lumpectomy</td>\n",
       "      <td>22</td>\n",
       "    </tr>\n",
       "    <tr>\n",
       "      <th>1</th>\n",
       "      <td>I</td>\n",
       "      <td>Modified Radical Mastectomy</td>\n",
       "      <td>8</td>\n",
       "    </tr>\n",
       "    <tr>\n",
       "      <th>2</th>\n",
       "      <td>I</td>\n",
       "      <td>Other</td>\n",
       "      <td>20</td>\n",
       "    </tr>\n",
       "    <tr>\n",
       "      <th>3</th>\n",
       "      <td>I</td>\n",
       "      <td>Simple Mastectomy</td>\n",
       "      <td>14</td>\n",
       "    </tr>\n",
       "    <tr>\n",
       "      <th>4</th>\n",
       "      <td>II</td>\n",
       "      <td>Lumpectomy</td>\n",
       "      <td>36</td>\n",
       "    </tr>\n",
       "    <tr>\n",
       "      <th>5</th>\n",
       "      <td>II</td>\n",
       "      <td>Modified Radical Mastectomy</td>\n",
       "      <td>49</td>\n",
       "    </tr>\n",
       "    <tr>\n",
       "      <th>6</th>\n",
       "      <td>II</td>\n",
       "      <td>Other</td>\n",
       "      <td>61</td>\n",
       "    </tr>\n",
       "    <tr>\n",
       "      <th>7</th>\n",
       "      <td>II</td>\n",
       "      <td>Simple Mastectomy</td>\n",
       "      <td>43</td>\n",
       "    </tr>\n",
       "    <tr>\n",
       "      <th>8</th>\n",
       "      <td>III</td>\n",
       "      <td>Lumpectomy</td>\n",
       "      <td>8</td>\n",
       "    </tr>\n",
       "    <tr>\n",
       "      <th>9</th>\n",
       "      <td>III</td>\n",
       "      <td>Modified Radical Mastectomy</td>\n",
       "      <td>39</td>\n",
       "    </tr>\n",
       "    <tr>\n",
       "      <th>10</th>\n",
       "      <td>III</td>\n",
       "      <td>Other</td>\n",
       "      <td>24</td>\n",
       "    </tr>\n",
       "    <tr>\n",
       "      <th>11</th>\n",
       "      <td>III</td>\n",
       "      <td>Simple Mastectomy</td>\n",
       "      <td>10</td>\n",
       "    </tr>\n",
       "  </tbody>\n",
       "</table>\n",
       "</div>"
      ],
      "text/plain": [
       "   Tumour_Stage                 Surgery_Type  surgery_count\n",
       "0             I                   Lumpectomy             22\n",
       "1             I  Modified Radical Mastectomy              8\n",
       "2             I                        Other             20\n",
       "3             I            Simple Mastectomy             14\n",
       "4            II                   Lumpectomy             36\n",
       "5            II  Modified Radical Mastectomy             49\n",
       "6            II                        Other             61\n",
       "7            II            Simple Mastectomy             43\n",
       "8           III                   Lumpectomy              8\n",
       "9           III  Modified Radical Mastectomy             39\n",
       "10          III                        Other             24\n",
       "11          III            Simple Mastectomy             10"
      ]
     },
     "execution_count": 26,
     "metadata": {},
     "output_type": "execute_result"
    }
   ],
   "source": [
    "#Show distribution of surgery type for each tumor stage\n",
    "\n",
    "query12 = \"\"\"\n",
    "SELECT Tumour_Stage, Surgery_Type, COUNT(*) AS surgery_count\n",
    "FROM brca_cleaned\n",
    "GROUP BY Tumour_Stage, Surgery_Type\n",
    "ORDER BY FIELD(Tumour_Stage, 'I', 'II', 'III'), Surgery_Type\n",
    ";\n",
    "\"\"\"\n",
    "\n",
    "df_surg_type = pd.read_sql(query12, con = engine)\n",
    "df_surg_type"
   ]
  },
  {
   "cell_type": "code",
   "execution_count": 27,
   "id": "51b21f47-f686-4d11-b4b2-e93d6715b565",
   "metadata": {},
   "outputs": [
    {
     "data": {
      "text/html": [
       "<div>\n",
       "<style scoped>\n",
       "    .dataframe tbody tr th:only-of-type {\n",
       "        vertical-align: middle;\n",
       "    }\n",
       "\n",
       "    .dataframe tbody tr th {\n",
       "        vertical-align: top;\n",
       "    }\n",
       "\n",
       "    .dataframe thead th {\n",
       "        text-align: right;\n",
       "    }\n",
       "</style>\n",
       "<table border=\"1\" class=\"dataframe\">\n",
       "  <thead>\n",
       "    <tr style=\"text-align: right;\">\n",
       "      <th></th>\n",
       "      <th>Tumour_Stage</th>\n",
       "      <th>Surgery_Type</th>\n",
       "      <th>percentage</th>\n",
       "    </tr>\n",
       "  </thead>\n",
       "  <tbody>\n",
       "    <tr>\n",
       "      <th>0</th>\n",
       "      <td>I</td>\n",
       "      <td>Lumpectomy</td>\n",
       "      <td>34.37500</td>\n",
       "    </tr>\n",
       "    <tr>\n",
       "      <th>1</th>\n",
       "      <td>I</td>\n",
       "      <td>Modified Radical Mastectomy</td>\n",
       "      <td>12.50000</td>\n",
       "    </tr>\n",
       "    <tr>\n",
       "      <th>2</th>\n",
       "      <td>I</td>\n",
       "      <td>Other</td>\n",
       "      <td>31.25000</td>\n",
       "    </tr>\n",
       "    <tr>\n",
       "      <th>3</th>\n",
       "      <td>I</td>\n",
       "      <td>Simple Mastectomy</td>\n",
       "      <td>21.87500</td>\n",
       "    </tr>\n",
       "    <tr>\n",
       "      <th>4</th>\n",
       "      <td>II</td>\n",
       "      <td>Lumpectomy</td>\n",
       "      <td>19.04762</td>\n",
       "    </tr>\n",
       "    <tr>\n",
       "      <th>5</th>\n",
       "      <td>II</td>\n",
       "      <td>Modified Radical Mastectomy</td>\n",
       "      <td>25.92593</td>\n",
       "    </tr>\n",
       "    <tr>\n",
       "      <th>6</th>\n",
       "      <td>II</td>\n",
       "      <td>Other</td>\n",
       "      <td>32.27513</td>\n",
       "    </tr>\n",
       "    <tr>\n",
       "      <th>7</th>\n",
       "      <td>II</td>\n",
       "      <td>Simple Mastectomy</td>\n",
       "      <td>22.75132</td>\n",
       "    </tr>\n",
       "    <tr>\n",
       "      <th>8</th>\n",
       "      <td>III</td>\n",
       "      <td>Lumpectomy</td>\n",
       "      <td>9.87654</td>\n",
       "    </tr>\n",
       "    <tr>\n",
       "      <th>9</th>\n",
       "      <td>III</td>\n",
       "      <td>Modified Radical Mastectomy</td>\n",
       "      <td>48.14815</td>\n",
       "    </tr>\n",
       "    <tr>\n",
       "      <th>10</th>\n",
       "      <td>III</td>\n",
       "      <td>Other</td>\n",
       "      <td>29.62963</td>\n",
       "    </tr>\n",
       "    <tr>\n",
       "      <th>11</th>\n",
       "      <td>III</td>\n",
       "      <td>Simple Mastectomy</td>\n",
       "      <td>12.34568</td>\n",
       "    </tr>\n",
       "  </tbody>\n",
       "</table>\n",
       "</div>"
      ],
      "text/plain": [
       "   Tumour_Stage                 Surgery_Type  percentage\n",
       "0             I                   Lumpectomy    34.37500\n",
       "1             I  Modified Radical Mastectomy    12.50000\n",
       "2             I                        Other    31.25000\n",
       "3             I            Simple Mastectomy    21.87500\n",
       "4            II                   Lumpectomy    19.04762\n",
       "5            II  Modified Radical Mastectomy    25.92593\n",
       "6            II                        Other    32.27513\n",
       "7            II            Simple Mastectomy    22.75132\n",
       "8           III                   Lumpectomy     9.87654\n",
       "9           III  Modified Radical Mastectomy    48.14815\n",
       "10          III                        Other    29.62963\n",
       "11          III            Simple Mastectomy    12.34568"
      ]
     },
     "execution_count": 27,
     "metadata": {},
     "output_type": "execute_result"
    }
   ],
   "source": [
    "#Show distribution as percentage for more accurate representation\n",
    "\n",
    "query13 = \"\"\"\n",
    "SELECT Tumour_Stage,\n",
    "       Surgery_Type,\n",
    "       COUNT(*) * 100.0 / (SELECT COUNT(*) \n",
    "                           FROM brca_cleaned b2 \n",
    "                           WHERE b2.Tumour_Stage = b1.Tumour_Stage) AS percentage\n",
    "FROM brca_cleaned b1\n",
    "GROUP BY Tumour_Stage, Surgery_Type\n",
    "ORDER BY FIELD(Tumour_Stage, 'I','II','III'), Surgery_Type;\n",
    "\"\"\"\n",
    "\n",
    "df_surg_percent = pd.read_sql(query13, con = engine)\n",
    "df_surg_percent"
   ]
  },
  {
   "cell_type": "markdown",
   "id": "a7f9ee1a-5ecf-49ac-b76a-cdf5a3a73b85",
   "metadata": {},
   "source": [
    "**Summary of Findings**\n",
    "\n",
    "- Lumpectomy: Most common in Stage I (≈34%), decreases steadily through Stage II (≈19%) to Stage III (≈10%). Suggests preference for breast-conserving surgery in early stages and reduced feasibility for late-stage tumors.\n",
    "- Modified Radical Mastectomy: Rises sharply from Stage I (12.5%) to Stage III (48.1%), reflecting increased use of aggressive surgery in advanced stages.\n",
    "- Simple Mastectomy: Appears to be fairly stable in early stages (≈22-32%) across all stages, suggesting these options are chosen for reasons independent of tumor stage.\n",
    "\n",
    "**Interpretation**\n",
    "\n",
    "These results show a clear shift from conservative to aggressive surgical approaches as tumor stage advances. The high rate of lumpectomy in early stages aligns with preserving breast tissue when the tumor is localized, while the rise in modified radical mastectomy at later stages reflects the need for more extensive tumor removal. The stable 'Other' category may represent patient-specific or tumor-specific considerations outside stage progression."
   ]
  },
  {
   "cell_type": "code",
   "execution_count": 28,
   "id": "afedd035-cdc3-43d3-8508-b2b5b65a2caa",
   "metadata": {},
   "outputs": [
    {
     "data": {
      "image/png": "[encoded data removed]",
      "text/plain": [
       "<Figure size 800x600 with 1 Axes>"
      ]
     },
     "metadata": {},
     "output_type": "display_data"
    },
    {
     "data": {
      "text/markdown": [
       "*Figure 5: Distribution of surgery type counts across tumor stages. Shows clear shift from lumpectomy in Stage I to modified radical mastectomy in Stage III.*"
      ],
      "text/plain": [
       "<IPython.core.display.Markdown object>"
      ]
     },
     "metadata": {},
     "output_type": "display_data"
    },
    {
     "data": {
      "image/png": "[encoded data removed]",
      "text/plain": [
       "<Figure size 800x600 with 1 Axes>"
      ]
     },
     "metadata": {},
     "output_type": "display_data"
    },
    {
     "data": {
      "text/markdown": [
       "*Figure 6: Percentage breakdown of surgery types by tumor stage. Highlights decreasing lumpectomy rates and increasing radical mastectomy rates with stage progression.*"
      ],
      "text/plain": [
       "<IPython.core.display.Markdown object>"
      ]
     },
     "metadata": {},
     "output_type": "display_data"
    }
   ],
   "source": [
    "#Graphs to visualize surgery trends across stages\n",
    "\n",
    "surgery_counts = pd.DataFrame({\n",
    "    'Stage': ['I', 'II', 'III'],\n",
    "    'Lumpectomy': [22, 36, 8],\n",
    "    'Simple Mastectomy': [14, 43, 10],\n",
    "    'Modified Radical Mastectomy': [8, 49, 39],\n",
    "    'Other': [20, 61, 24]\n",
    "})\n",
    "\n",
    "surgery_percentages = pd.DataFrame({\n",
    "    'Stage': ['I', 'II', 'III'],\n",
    "    'Lumpectomy': [34.375, 19.04762, 9.87654],\n",
    "    'Simple Mastectomy': [21.875, 22.75132, 12.34568],\n",
    "    'Modified Radical Mastectomy': [12.5, 25.92593, 48.14815],\n",
    "    'Other': [31.25, 32.27513, 29.62963]\n",
    "})\n",
    "\n",
    "\n",
    "fig, ax = plt.subplots(figsize=(8, 6))\n",
    "bar_width = 0.2\n",
    "x = range(len(surgery_counts['Stage']))\n",
    "\n",
    "for i, col in enumerate(surgery_counts.columns[1:]):\n",
    "    ax.bar([pos + i*bar_width for pos in x], \n",
    "           surgery_counts[col], \n",
    "           width=bar_width, \n",
    "           label=col)\n",
    "\n",
    "ax.set_xticks([pos + bar_width*1.5 for pos in x])\n",
    "ax.set_xticklabels(surgery_counts['Stage'])\n",
    "ax.set_ylabel(\"Number of Patients\")\n",
    "ax.set_xlabel(\"Tumor Stage\")\n",
    "ax.set_title(\"Surgery Type Counts by Tumor Stage\")\n",
    "ax.legend()\n",
    "plt.tight_layout()\n",
    "plt.show()\n",
    "\n",
    "\n",
    "from IPython.display import display, Markdown\n",
    "display(Markdown(\"*Figure 5: Distribution of surgery type counts across tumor stages. Shows clear shift from lumpectomy in Stage I to modified radical mastectomy in Stage III.*\"))\n",
    "\n",
    "\n",
    "fig, ax = plt.subplots(figsize=(8, 6))\n",
    "bottom_vals = [0] * len(surgery_percentages['Stage'])\n",
    "\n",
    "for col in surgery_percentages.columns[1:]:\n",
    "    ax.bar(surgery_percentages['Stage'], \n",
    "           surgery_percentages[col], \n",
    "           bottom=bottom_vals, \n",
    "           label=col)\n",
    "    bottom_vals = [i + j for i, j in zip(bottom_vals, surgery_percentages[col])]\n",
    "\n",
    "ax.set_ylabel(\"Percentage (%)\")\n",
    "ax.set_xlabel(\"Tumor Stage\")\n",
    "ax.set_title(\"Surgery Type Percentages by Tumor Stage\")\n",
    "ax.legend()\n",
    "plt.tight_layout()\n",
    "plt.show()\n",
    "\n",
    "\n",
    "display(Markdown(\"*Figure 6: Percentage breakdown of surgery types by tumor stage. Highlights decreasing lumpectomy rates and increasing radical mastectomy rates with stage progression.*\"))\n",
    "\n"
   ]
  },
  {
   "cell_type": "markdown",
   "id": "a70f3beb-b673-48c2-81a5-10c05b160aa2",
   "metadata": {},
   "source": [
    "**Question 5: What impact do tumor stage and receptor status have on patient survival?**\n",
    "\n",
    "Here, I will examine how tumor stage (I, II, III) and receptor status (Er, PR, HER2) influence patient survival by comparing survival outcomes across stages and receptor profiles."
   ]
  },
  {
   "cell_type": "markdown",
   "id": "bfe6d516-4d84-4041-8c5b-bfbd9129997b",
   "metadata": {},
   "source": [
    "Will begin by looking at the average survival_days for each tumor stage."
   ]
  },
  {
   "cell_type": "code",
   "execution_count": 29,
   "id": "477ca35d-da6c-4b2a-9c58-24ced5f3ab47",
   "metadata": {},
   "outputs": [
    {
     "data": {
      "text/html": [
       "<div>\n",
       "<style scoped>\n",
       "    .dataframe tbody tr th:only-of-type {\n",
       "        vertical-align: middle;\n",
       "    }\n",
       "\n",
       "    .dataframe tbody tr th {\n",
       "        vertical-align: top;\n",
       "    }\n",
       "\n",
       "    .dataframe thead th {\n",
       "        text-align: right;\n",
       "    }\n",
       "</style>\n",
       "<table border=\"1\" class=\"dataframe\">\n",
       "  <thead>\n",
       "    <tr style=\"text-align: right;\">\n",
       "      <th></th>\n",
       "      <th>Tumour_Stage</th>\n",
       "      <th>AVG(survival_days)</th>\n",
       "    </tr>\n",
       "  </thead>\n",
       "  <tbody>\n",
       "    <tr>\n",
       "      <th>0</th>\n",
       "      <td>I</td>\n",
       "      <td>547.283333</td>\n",
       "    </tr>\n",
       "    <tr>\n",
       "      <th>1</th>\n",
       "      <td>II</td>\n",
       "      <td>449.866667</td>\n",
       "    </tr>\n",
       "    <tr>\n",
       "      <th>2</th>\n",
       "      <td>III</td>\n",
       "      <td>365.350649</td>\n",
       "    </tr>\n",
       "  </tbody>\n",
       "</table>\n",
       "</div>"
      ],
      "text/plain": [
       "  Tumour_Stage  AVG(survival_days)\n",
       "0            I          547.283333\n",
       "1           II          449.866667\n",
       "2          III          365.350649"
      ]
     },
     "execution_count": 29,
     "metadata": {},
     "output_type": "execute_result"
    }
   ],
   "source": [
    "#Average survival days for each tumor stage\n",
    "\n",
    "query14 = \"\"\"\n",
    "SELECT Tumour_Stage, AVG(survival_days)\n",
    "FROM brca_cleaned\n",
    "GROUP BY Tumour_Stage\n",
    "order by Tumour_Stage \n",
    ";\n",
    "\"\"\"\n",
    "\n",
    "df_stage_surv_days = pd.read_sql(query14, con = engine)\n",
    "df_stage_surv_days\n"
   ]
  },
  {
   "cell_type": "markdown",
   "id": "1f5d6751-d77d-4200-937a-a942365dea18",
   "metadata": {},
   "source": [
    "Now, will filter for tumor stage, receptor status, patient status, and survival day stats to see if there are any notable trends with receptor status and patient survival."
   ]
  },
  {
   "cell_type": "code",
   "execution_count": 30,
   "id": "68d25265-175e-4d7c-8fd1-19e75735e0d0",
   "metadata": {},
   "outputs": [
    {
     "data": {
      "text/html": [
       "<div>\n",
       "<style scoped>\n",
       "    .dataframe tbody tr th:only-of-type {\n",
       "        vertical-align: middle;\n",
       "    }\n",
       "\n",
       "    .dataframe tbody tr th {\n",
       "        vertical-align: top;\n",
       "    }\n",
       "\n",
       "    .dataframe thead th {\n",
       "        text-align: right;\n",
       "    }\n",
       "</style>\n",
       "<table border=\"1\" class=\"dataframe\">\n",
       "  <thead>\n",
       "    <tr style=\"text-align: right;\">\n",
       "      <th></th>\n",
       "      <th>Tumour_Stage</th>\n",
       "      <th>ER status</th>\n",
       "      <th>PR status</th>\n",
       "      <th>HER2 status</th>\n",
       "      <th>patient_count</th>\n",
       "      <th>avg_survival_days</th>\n",
       "      <th>min_survival_days</th>\n",
       "      <th>max_survival_days</th>\n",
       "      <th>deaths</th>\n",
       "      <th>alive</th>\n",
       "    </tr>\n",
       "  </thead>\n",
       "  <tbody>\n",
       "    <tr>\n",
       "      <th>0</th>\n",
       "      <td>I</td>\n",
       "      <td>Positive</td>\n",
       "      <td>Positive</td>\n",
       "      <td>Negative</td>\n",
       "      <td>61</td>\n",
       "      <td>558.105263</td>\n",
       "      <td>23.0</td>\n",
       "      <td>2763.0</td>\n",
       "      <td>9.0</td>\n",
       "      <td>49.0</td>\n",
       "    </tr>\n",
       "    <tr>\n",
       "      <th>1</th>\n",
       "      <td>I</td>\n",
       "      <td>Positive</td>\n",
       "      <td>Positive</td>\n",
       "      <td>Positive</td>\n",
       "      <td>3</td>\n",
       "      <td>341.666667</td>\n",
       "      <td>272.0</td>\n",
       "      <td>456.0</td>\n",
       "      <td>1.0</td>\n",
       "      <td>2.0</td>\n",
       "    </tr>\n",
       "    <tr>\n",
       "      <th>2</th>\n",
       "      <td>II</td>\n",
       "      <td>Positive</td>\n",
       "      <td>Positive</td>\n",
       "      <td>Negative</td>\n",
       "      <td>176</td>\n",
       "      <td>462.071856</td>\n",
       "      <td>0.0</td>\n",
       "      <td>3019.0</td>\n",
       "      <td>37.0</td>\n",
       "      <td>132.0</td>\n",
       "    </tr>\n",
       "    <tr>\n",
       "      <th>3</th>\n",
       "      <td>II</td>\n",
       "      <td>Positive</td>\n",
       "      <td>Positive</td>\n",
       "      <td>Positive</td>\n",
       "      <td>13</td>\n",
       "      <td>293.076923</td>\n",
       "      <td>19.0</td>\n",
       "      <td>756.0</td>\n",
       "      <td>1.0</td>\n",
       "      <td>12.0</td>\n",
       "    </tr>\n",
       "    <tr>\n",
       "      <th>4</th>\n",
       "      <td>III</td>\n",
       "      <td>Positive</td>\n",
       "      <td>Positive</td>\n",
       "      <td>Negative</td>\n",
       "      <td>68</td>\n",
       "      <td>355.546875</td>\n",
       "      <td>7.0</td>\n",
       "      <td>1519.0</td>\n",
       "      <td>16.0</td>\n",
       "      <td>49.0</td>\n",
       "    </tr>\n",
       "    <tr>\n",
       "      <th>5</th>\n",
       "      <td>III</td>\n",
       "      <td>Positive</td>\n",
       "      <td>Positive</td>\n",
       "      <td>Positive</td>\n",
       "      <td>13</td>\n",
       "      <td>413.615385</td>\n",
       "      <td>90.0</td>\n",
       "      <td>804.0</td>\n",
       "      <td>2.0</td>\n",
       "      <td>11.0</td>\n",
       "    </tr>\n",
       "  </tbody>\n",
       "</table>\n",
       "</div>"
      ],
      "text/plain": [
       "  Tumour_Stage ER status PR status HER2 status  patient_count  \\\n",
       "0            I  Positive  Positive    Negative             61   \n",
       "1            I  Positive  Positive    Positive              3   \n",
       "2           II  Positive  Positive    Negative            176   \n",
       "3           II  Positive  Positive    Positive             13   \n",
       "4          III  Positive  Positive    Negative             68   \n",
       "5          III  Positive  Positive    Positive             13   \n",
       "\n",
       "   avg_survival_days  min_survival_days  max_survival_days  deaths  alive  \n",
       "0         558.105263               23.0             2763.0     9.0   49.0  \n",
       "1         341.666667              272.0              456.0     1.0    2.0  \n",
       "2         462.071856                0.0             3019.0    37.0  132.0  \n",
       "3         293.076923               19.0              756.0     1.0   12.0  \n",
       "4         355.546875                7.0             1519.0    16.0   49.0  \n",
       "5         413.615385               90.0              804.0     2.0   11.0  "
      ]
     },
     "execution_count": 30,
     "metadata": {},
     "output_type": "execute_result"
    }
   ],
   "source": [
    "#Filters out tumor stage, recepetor statuses, patient status, and survival day stats\n",
    "\n",
    "query15 = \"\"\"\n",
    "SELECT\n",
    "    Tumour_Stage,\n",
    "    `ER status`,\n",
    "    `PR status`,\n",
    "    `HER2 status`,\n",
    "    COUNT(*) AS patient_count,\n",
    "    AVG(survival_days) AS avg_survival_days,\n",
    "    MIN(survival_days) AS min_survival_days,\n",
    "    MAX(survival_days) AS max_survival_days,\n",
    "    SUM(CASE WHEN Patient_Status = 'Dead' THEN 1 ELSE 0 END) AS deaths,\n",
    "    SUM(CASE WHEN Patient_Status = 'Alive' THEN 1 ELSE 0 END) AS alive\n",
    "FROM brca_cleaned\n",
    "GROUP BY Tumour_Stage, `ER status`, `PR status`, `HER2 status`\n",
    "ORDER BY Tumour_Stage, `ER status`, `PR status`, `HER2 status`;\n",
    "\"\"\"\n",
    "\n",
    "df_surg_out_percent = pd.read_sql(query15, con = engine)\n",
    "df_surg_out_percent"
   ]
  },
  {
   "cell_type": "markdown",
   "id": "83c64c6c-d487-480c-ba15-1277c82594f5",
   "metadata": {},
   "source": [
    "**Summary of Findings**\n",
    "\n",
    "- Overall by Stage (regardless of receptor status)\n",
    "  - Stage I: Average survival ≈547 days (≈1.5 years)\n",
    "  - Stage II: Average survival ≈450 days (≈1.2 years)\n",
    "  - Stage III: Average survival ≈365 days (≈1 year)\n",
    "  - Pattern: Survival appears to decrease steadily with advancing tumor stage.\n",
    "\n",
    "- By Stage + Receptor Status:\n",
    "\n",
    "- Stage I\n",
    "  - HER2 Negative (ER+/PR+): Highest survival (avg ≈558 days)\n",
    "  - HER2 Positive (ER+/PR+): Lowest survival (avg ≈342 days)\n",
    "- Stage II\n",
    "  - HER2 Negative (ER+/PR+): Avg ≈ 4662 days, ≈21% mortality\n",
    "  - HER2 Positive (ER+/PR+): Lower survival (avg ≈293 days), few deaths )though possibly do to sample size)\n",
    "- Stage III\n",
    "  - HER2 Negative (ER+/PR+): Lowest survival (avg≈356 days)\n",
    "  - HER2 Positive (ER+/PR+): Slightly better survival than HER2 negative Stage III (avg≈414 days), but sample size is small (13 patients)\n",
    "\n",
    "\n",
    "**Interpretation**\n",
    "\n",
    "Tumor stage has a clear and consistent impact on patient survival, with average survival decreasing steadily from Stage I to Stage III. HER2 status appears to influence survival differently depending on the stage: in the early stages (I-II), HER2 positivity is associated with lower survival, whereas in Stage III, HER2-positive patients show slightly higher survival, possibly due to targeted therapies or the small sample size. ER and PR receptors are uniformly positive in this dataset, so their effects cannot be evaluated. I also believe it is important to note that small sample sizes, particularly for HER2-positive patients in early stages, may limit the reliability of some observed trends. Overall, these patterns highlight that both tumor stage and receptor status can provide insights into patient prognosis, though interpretation should consider sample size limitations."
   ]
  },
  {
   "cell_type": "code",
   "execution_count": 31,
   "id": "4386d244-3ab7-4e1b-bdd0-e97f12a89e59",
   "metadata": {},
   "outputs": [
    {
     "data": {
      "text/plain": [
       "<Axes: xlabel='Tumour_Stage', ylabel='Average_Survival_Days'>"
      ]
     },
     "execution_count": 31,
     "metadata": {},
     "output_type": "execute_result"
    },
    {
     "data": {
      "image/png": "[encoded data removed]",
      "text/plain": [
       "<Figure size 640x480 with 1 Axes>"
      ]
     },
     "metadata": {},
     "output_type": "display_data"
    }
   ],
   "source": [
    "#Visualize patient survival based on tumor stage\n",
    "\n",
    "data = {\n",
    "    'Tumour_Stage': ['I','I','II','II','III','III'],\n",
    "    'HER2_Status': ['Negative','Positive','Negative','Positive','Negative','Positive'],\n",
    "    'Average_Survival_Days': [558.11, 341.67, 462.07, 293.08, 355.55, 413.62],\n",
    "    'Patient_Count': [61, 3, 176, 13, 68, 13],\n",
    "    'Deaths': [9, 1, 37, 1, 16, 2],\n",
    "    'Alive': [49, 2, 132, 12, 49, 11]\n",
    "}\n",
    "\n",
    "df_survival = pd.DataFrame(data)\n",
    "\n",
    "df_survival\n",
    "\n",
    "\n",
    "\n",
    "sns.barplot(x='Tumour_Stage', y='Average_Survival_Days', data=df_survival)\n",
    "\n"
   ]
  },
  {
   "cell_type": "markdown",
   "id": "c859e8fa-48a9-4d0e-9ed7-e87857b7dfa4",
   "metadata": {},
   "source": [
    "Figure 7: Average patient survival by tumor stage. Survival decreases as tumor stage advances, with Stage III patients showing the lowest average survival.\n"
   ]
  },
  {
   "cell_type": "code",
   "execution_count": 32,
   "id": "9163b783-8a44-4958-b1e8-5e6071879dec",
   "metadata": {},
   "outputs": [
    {
     "data": {
      "text/plain": [
       "<Axes: xlabel='Tumour_Stage', ylabel='Average_Survival_Days'>"
      ]
     },
     "execution_count": 32,
     "metadata": {},
     "output_type": "execute_result"
    },
    {
     "data": {
      "image/png": "[encoded data removed]",
      "text/plain": [
       "<Figure size 640x480 with 1 Axes>"
      ]
     },
     "metadata": {},
     "output_type": "display_data"
    }
   ],
   "source": [
    "\n",
    "sns.barplot(\n",
    "    x='Tumour_Stage', \n",
    "    y='Average_Survival_Days', \n",
    "    hue='HER2_Status', \n",
    "    data=df_survival, \n",
    "    errorbar=None,  # replaces ci=None\n",
    "    palette='muted'\n",
    ")\n"
   ]
  },
  {
   "cell_type": "markdown",
   "id": "278a2d83-a0eb-4e41-a1aa-6e525c085be9",
   "metadata": {},
   "source": [
    "Figure 8: Average patient survival by tumor stage and HER2 status. HER2-positive patients tend to have lower survival in early stages, but effects vary in Stage III.\n"
   ]
  },
  {
   "cell_type": "markdown",
   "id": "1c03c465-1cc6-40aa-83eb-f4d3cb8e1f5c",
   "metadata": {},
   "source": [
    "## Statistical Testing\n"
   ]
  },
  {
   "cell_type": "markdown",
   "id": "0dd2860c-8cb2-4d12-8144-916adf79c38f",
   "metadata": {},
   "source": [
    "**ANOVA TEST:** A one-way ANOVA test will be performed on each protein to determine whether expression levels significantly differed across tumor stages (I, II, III)."
   ]
  },
  {
   "cell_type": "code",
   "execution_count": 33,
   "id": "c8d1474b-82ee-4aef-8454-13fb5c867eae",
   "metadata": {},
   "outputs": [
    {
     "name": "stdout",
     "output_type": "stream",
     "text": [
      "Protein1 ANOVA: F-statistic = 0.697, p-value = 0.4991\n",
      "  → No significant difference detected in Protein1 levels across tumor stages.\n",
      "\n",
      "Protein2 ANOVA: F-statistic = 0.498, p-value = 0.6080\n",
      "  → No significant difference detected in Protein2 levels across tumor stages.\n",
      "\n",
      "Protein3 ANOVA: F-statistic = 0.693, p-value = 0.5006\n",
      "  → No significant difference detected in Protein3 levels across tumor stages.\n",
      "\n",
      "Protein4 ANOVA: F-statistic = 0.253, p-value = 0.7768\n",
      "  → No significant difference detected in Protein4 levels across tumor stages.\n",
      "\n"
     ]
    }
   ],
   "source": [
    "from scipy.stats import f_oneway\n",
    "\n",
    "proteins = ['Protein1', 'Protein2', 'Protein3', 'Protein4']\n",
    "\n",
    "for protein in proteins:\n",
    "    stage_I = df[df['Tumour_Stage'] == 'I'][protein]\n",
    "    stage_II = df[df['Tumour_Stage'] == 'II'][protein]\n",
    "    stage_III = df[df['Tumour_Stage'] == 'III'][protein]\n",
    "    \n",
    "    f_stat, p_val = f_oneway(stage_I, stage_II, stage_III)\n",
    "    \n",
    "    print(f\"{protein} ANOVA: F-statistic = {f_stat:.3f}, p-value = {p_val:.4f}\")\n",
    "    \n",
    "    if p_val < 0.05:\n",
    "        print(f\"  → Significant difference detected in {protein} levels across tumor stages.\\n\")\n",
    "    else:\n",
    "        print(f\"  → No significant difference detected in {protein} levels across tumor stages.\\n\")\n"
   ]
  },
  {
   "cell_type": "markdown",
   "id": "cf523447-b04d-47f3-b5f3-bcf1ca323adf",
   "metadata": {},
   "source": [
    "**Interpretation:** \n",
    "\n",
    "None of the proteins exhibit statistically significant differences in average expression between tumor stages. While trends in averages were observed during exploratory analysis, these differences are not strong enough to be deemed significant. This suggests that protein expression alone may not reliably predict tumor stage in this dataset."
   ]
  },
  {
   "cell_type": "markdown",
   "id": "f6eadfa6-bc2f-41d2-8e81-0a85e8732eee",
   "metadata": {},
   "source": [
    "\n",
    "**Chi-Square Test:** A chi-square test is performed to examine whether HER2 receptor status is associated with tumor stage. The contingency table included counts of HER2-positive and HER2-negative patients across Stages I, II, and III."
   ]
  },
  {
   "cell_type": "code",
   "execution_count": 34,
   "id": "140a1653-b8e7-45e6-ae96-bd66d6032872",
   "metadata": {},
   "outputs": [
    {
     "name": "stdout",
     "output_type": "stream",
     "text": [
      "chi2:  7.608517439281055\n",
      "degrees of freedom:  2\n",
      "P-val:  0.022275703588921718\n",
      "expected freq:  [[  5.55688623  58.44311377]\n",
      " [ 16.41017964 172.58982036]\n",
      " [  7.03293413  73.96706587]]\n"
     ]
    }
   ],
   "source": [
    "\n",
    "from scipy.stats import chi2_contingency\n",
    "\n",
    "data = [[3, 61],\n",
    "        [13, 176],\n",
    "        [13, 68]]\n",
    "\n",
    "df_chi= pd.DataFrame(data, columns = ['HER2_Pos', 'HER2_Neg'], index = ['Stage I',\n",
    "                                                                     'Stage '\n",
    "                                                                     'II',\n",
    "                                                                     'Stage '\n",
    "                                                                     'III'])\n",
    "chi2, p, dof, expected = chi2_contingency(df_chi)\n",
    "\n",
    "\n",
    "print(\"chi2: \", chi2)\n",
    "print(\"degrees of freedom: \", dof)\n",
    "print(\"P-val: \", p)\n",
    "print(\"expected freq: \", expected)"
   ]
  },
  {
   "cell_type": "markdown",
   "id": "1f3df4cb-139a-43ad-b87b-b70a9a627a26",
   "metadata": {},
   "source": [
    "**Interpretation:**\n",
    "Since the p-value is less than 0.05, we conclude that HER2 positivity is statistically significantly associated with tumor stage. This indicates that the distribution of HER2-positive tumors differs across stages, with higher prevalence in later stages."
   ]
  },
  {
   "cell_type": "markdown",
   "id": "5e0b8253-a28c-45aa-be13-f437e5f3122e",
   "metadata": {},
   "source": [
    "**Chi-Square Test:** Another chi-square test will be performed to evaluate whether or not the distribution of surgical procedures varies across tumor stages. The test compares the observed counts of each surgery type at each stage with the expected counts if there were no association. "
   ]
  },
  {
   "cell_type": "code",
   "execution_count": 35,
   "id": "de2bdff8-f879-4df9-ad77-e8e2c7daa0ee",
   "metadata": {},
   "outputs": [
    {
     "name": "stdout",
     "output_type": "stream",
     "text": [
      "Chi-square statistic: 31.29676547403389\n",
      "Degrees of freedom: 6\n",
      "P-value: 2.224702333029871e-05\n",
      "Expected frequencies:\n",
      " [[12.64670659 12.83832335 18.39520958 20.11976048]\n",
      " [37.34730539 37.91317365 54.32335329 59.41616766]\n",
      " [16.00598802 16.24850299 23.28143713 25.46407186]]\n"
     ]
    }
   ],
   "source": [
    "import pandas as pd\n",
    "from scipy.stats import chi2_contingency\n",
    "\n",
    "\n",
    "data = {'Lumpectomy': [22, 36, 8],\n",
    "        'Simple Mastectomy': [14, 43, 10],\n",
    "        'Modified Radical Mastectomy': [8, 49, 39],\n",
    "        'Other': [20, 61, 24]}\n",
    "df_surgery = pd.DataFrame(data, index=['Stage I', 'Stage II', 'Stage III'])\n",
    "\n",
    "\n",
    "chi2, p, dof, expected = chi2_contingency(df_surgery)\n",
    "\n",
    "print(\"Chi-square statistic:\", chi2)\n",
    "print(\"Degrees of freedom:\", dof)\n",
    "print(\"P-value:\", p)\n",
    "print(\"Expected frequencies:\\n\", expected)\n"
   ]
  },
  {
   "cell_type": "markdown",
   "id": "f90529c6-6e53-4789-b8ac-17a4f04a3648",
   "metadata": {},
   "source": [
    "**Interpretation:**\n",
    "\n",
    "The significant p-value 2.224702333029871e-05 (< 0.05) indicates that surgery type is associated with tumor stage. Less aggressive surgeries (lumpectomy) are more common in early stages, while more aggressive surgeries (modified radical mastectomy) are more frequent in later stages. This aligns with clinical expectations and reinforces the trends observed in the exploratory analysis section."
   ]
  },
  {
   "cell_type": "markdown",
   "id": "9239daac-466d-4179-8a65-bab3494d2203",
   "metadata": {},
   "source": [
    "**Spearman Correlation:** A Spearman correlation will be computed between patient age and survival days to assess monotonic relationships."
   ]
  },
  {
   "cell_type": "code",
   "execution_count": 36,
   "id": "7d7ac677-5a79-4411-9c34-40aa013e47bd",
   "metadata": {},
   "outputs": [
    {
     "name": "stdout",
     "output_type": "stream",
     "text": [
      "Spearman correlation between Age and Survival Days: -0.039\n",
      "P-value: 0.492\n"
     ]
    },
    {
     "data": {
      "image/png": "[encoded data removed]",
      "text/plain": [
       "<Figure size 800x600 with 1 Axes>"
      ]
     },
     "metadata": {},
     "output_type": "display_data"
    }
   ],
   "source": [
    "from scipy.stats import spearmanr\n",
    "\n",
    "# Drop rows with missing Age or survival_days\n",
    "df_clean = df.dropna(subset=['Age', 'survival_days'])\n",
    "\n",
    "# Compute Spearman correlation\n",
    "corr, p_value = spearmanr(df_clean['Age'], df_clean['survival_days'])\n",
    "\n",
    "print(f\"Spearman correlation between Age and Survival Days: {corr:.3f}\")\n",
    "print(f\"P-value: {p_value:.3f}\")\n",
    "\n",
    "plt.figure(figsize=(8,6))\n",
    "sns.regplot(\n",
    "    x='Age', \n",
    "    y='survival_days', \n",
    "    data=df, \n",
    "    scatter_kws={'alpha':0.6},  # make points semi-transparent\n",
    "    line_kws={'color':'red', 'label':'Trend Line'}\n",
    ")\n",
    "plt.title('Scatter Plot of Age vs Survival Days')\n",
    "plt.xlabel('Age')\n",
    "plt.ylabel('Survival Days')\n",
    "plt.legend()\n",
    "plt.show()\n"
   ]
  },
  {
   "cell_type": "markdown",
   "id": "c9dbd254-7d33-4a57-bf80-827bcf9eec8b",
   "metadata": {},
   "source": [
    "Figure 9: Age vs Survival Days\n",
    "\n",
    "Scatter plot showing the relationship between patient age and survival days. The red line indicates the trend. Spearman correlation = -0.039, p = 0.492, suggesting no significant association between age and survival.\n"
   ]
  },
  {
   "cell_type": "markdown",
   "id": "610301a6-2e31-4c01-8d1e-c0c646963f3d",
   "metadata": {},
   "source": [
    "\n",
    "**Interpretation:**\n",
    "\n",
    "The correlation was very weak (ρ = -0.039) and not statistically significant (p = 0.492), suggesting that age does not meaningfully impact survival in this dataset."
   ]
  },
  {
   "cell_type": "markdown",
   "id": "9ff032cd-55e0-4ba4-a775-7e8daaa5216f",
   "metadata": {},
   "source": [
    "## Conclusions\n",
    "\n",
    "This exploratory analysis highlights several key trends in the breast cancer dataset:\n",
    "\n",
    "- Tumor Stage and Age: Average patient age decreases with advancing tumor stage, and age variability is higher in early-stage patients. Spearman correlation between age and survival days is -0.039 (p = 0.492), indicating no significant association.\n",
    "- Protein Expression: Proteins 1, 2, and 4 show decreasing levels as tumor stage progresses, suggesting potential as biomarkers. ANOVA tests confirmed that differences across stages were not statistically significant (all p > 0.05), indicating that observed trends may reflect small effect sizes or sample variability. Protein 3 behaves non-linearly, indicating a more complex relationship with tumor progression.\n",
    "- Receptor Status: ER and PR are consistently positive across stages. HER2 positivity increases in later stages, and chi-square analysis confirmed a statistically significant association between HER2 status and tumor stage (χ² ≈ 7.61, p = 0.022), reinforcing that HER2 is more prevalent in advanced stages.\n",
    "- Surgical Choices: Less invasive surgeries (lumpectomy) are more common in early stages, while aggressive surgeries (modified radical mastectomy) dominate in later stages. Chi-square analysis showed a strong association between surgery type and tumor stage (χ² ≈ 31.30, p < 0.001). “Other” procedures remain fairly stable across stages.\n",
    "- Survival: Patient survival declines with tumor stage. HER2-positive patients generally have lower survival in early stages, but Stage III shows slightly higher survival, possibly due to targeted therapies or small sample sizes. ER and PR effects on survival could not be evaluated due to uniform positivity.\n",
    "\n",
    "Overall: Tumor stage strongly influences survival, surgical decisions, and protein expression patterns. Statistical testing confirms the stage-dependence of HER2 status and surgical choices. Certain proteins may serve as progression biomarkers, though further research with larger samples is needed to validate their significance."
   ]
  },
  {
   "cell_type": "markdown",
   "id": "23fe56b1-4917-4dc0-837a-a69e6ac5079b",
   "metadata": {},
   "source": [
    "## Limitations & Future Work\n",
    "\n",
    "Some subgroup sizes are small (e.g., HER2-positive patients in early stages), which may affect reliability. Survival analyses may be influenced by missing data or unmeasured factors. Future analyses could use larger datasets, include more clinical variables, and explore predictive models to better understand how tumor biology affects outcomes."
   ]
  }
 ],
 "metadata": {
  "kernelspec": {
   "display_name": "Python 3 (ipykernel)",
   "language": "python",
   "name": "python3"
  },
  "language_info": {
   "codemirror_mode": {
    "name": "ipython",
    "version": 3
   },
   "file_extension": ".py",
   "mimetype": "text/x-python",
   "name": "python",
   "nbconvert_exporter": "python",
   "pygments_lexer": "ipython3",
   "version": "3.11.5"
  }
 },
 "nbformat": 4,
 "nbformat_minor": 5
}
